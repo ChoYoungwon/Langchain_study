{
 "cells": [
  {
   "cell_type": "code",
   "id": "initial_id",
   "metadata": {
    "collapsed": true,
    "ExecuteTime": {
     "end_time": "2024-09-19T11:05:18.870461Z",
     "start_time": "2024-09-19T11:05:18.835734Z"
    }
   },
   "source": [
    "from dotenv import load_dotenv\n",
    "import os\n",
    "from langchain_teddynote import logging\n",
    "\n",
    "load_dotenv()\n",
    "logging.langsmith(\"YoungWon\")"
   ],
   "outputs": [
    {
     "name": "stdout",
     "output_type": "stream",
     "text": [
      "LangSmith 추적을 시작합니다.\n",
      "[프로젝트명]\n",
      "YoungWon\n"
     ]
    }
   ],
   "execution_count": 1
  },
  {
   "metadata": {
    "ExecuteTime": {
     "end_time": "2024-09-19T11:05:26.868096Z",
     "start_time": "2024-09-19T11:05:22.043538Z"
    }
   },
   "cell_type": "code",
   "source": [
    "from langchain_openai import ChatOpenAI\n",
    "from langchain_core.prompts import PromptTemplate\n",
    "from langchain_core.output_parsers import StrOutputParser\n",
    "\n",
    "openai_api_key = os.getenv(\"OPENAI_API_KEY\")\n",
    "\n",
    "model = ChatOpenAI(\n",
    "    api_key = openai_api_key,\n",
    "    model = \"gpt-3.5-turbo\",\n",
    "    max_tokens=2048,\n",
    "    temperature=0.1\n",
    ")\n",
    "\n",
    "prompt = PromptTemplate.from_template(\"{topic}에 대하여 3문장으로 설명해줘.\")\n",
    "\n",
    "chain = prompt | model | StrOutputParser()"
   ],
   "id": "9950b4451df7340d",
   "outputs": [],
   "execution_count": 2
  },
  {
   "metadata": {},
   "cell_type": "markdown",
   "source": "### stream: 실시간 출력",
   "id": "d2e1a4b4c2041d0"
  },
  {
   "metadata": {
    "ExecuteTime": {
     "end_time": "2024-09-19T11:10:38.643612Z",
     "start_time": "2024-09-19T11:10:33.723111Z"
    }
   },
   "cell_type": "code",
   "source": [
    "# chain.stream 메서드를 사용하여 멀티모달 토픽에 대한 스트림을 생성, 반복\n",
    "for token in chain.stream({\"topic\": \"멀티모달\"}):\n",
    "    # 스트림에서 받은 데이터의 내용을 출력, 줄바꿈 없이 이어서 출력, 버퍼를 즉시 비움\n",
    "\tprint(token, end=\"\", flush=True)"
   ],
   "id": "e70a3d46ebb9f72a",
   "outputs": [
    {
     "name": "stdout",
     "output_type": "stream",
     "text": [
      "멀티모달은 여러 가지 다양한 형태의 매체를 결합하여 정보를 전달하거나 상호작용하는 방식을 말합니다. 이는 텍스트, 이미지, 음성, 동영상 등 다양한 매체를 활용하여 사용자에게 보다 풍부한 경험을 제공할 수 있습니다. 멀티모달은 사용자의 다양한 선호도와 필요에 맞게 정보를 제공하여 상호작용을 증진시키고 효율적인 소통을 도와줍니다."
     ]
    }
   ],
   "execution_count": 3
  },
  {
   "metadata": {},
   "cell_type": "markdown",
   "source": "### invoke: 호출",
   "id": "9d3b6105988d559"
  },
  {
   "metadata": {
    "ExecuteTime": {
     "end_time": "2024-09-19T11:12:39.737559Z",
     "start_time": "2024-09-19T11:12:37.652762Z"
    }
   },
   "cell_type": "code",
   "source": [
    "# chain 객체의 invoke 메서드를 호출하고, ChatGPT라는 주제로 딕셔너리를 전달함\n",
    "chain.invoke({\"topic\":\"ChatGPT\"})"
   ],
   "id": "e32987455ff5a224",
   "outputs": [
    {
     "data": {
      "text/plain": [
       "'ChatGPT는 인공지능 챗봇으로 자연어 처리 기술을 사용하여 대화를 수행합니다. 사용자의 질문에 대답하거나 대화를 이어나가는 역할을 합니다. 다양한 주제에 대해 대화를 나누며 유용한 정보나 도움을 제공합니다.'"
      ]
     },
     "execution_count": 4,
     "metadata": {},
     "output_type": "execute_result"
    }
   ],
   "execution_count": 4
  },
  {
   "metadata": {},
   "cell_type": "markdown",
   "source": "### batch: 배치(단위 실행)",
   "id": "5f9aef94d44b4bb0"
  },
  {
   "metadata": {
    "ExecuteTime": {
     "end_time": "2024-09-19T11:16:13.905715Z",
     "start_time": "2024-09-19T11:16:10.931978Z"
    }
   },
   "cell_type": "code",
   "source": [
    "# 주어진 토픽 리스트를 batch 처리하는 함수 호출\n",
    "chain.batch([{\"topic\": \"ChatGPT\"}, {\"topic\": \"instagram\"}])"
   ],
   "id": "fd8486bf138af2df",
   "outputs": [
    {
     "data": {
      "text/plain": [
       "['ChatGPT는 인공지능 챗봇으로 자연어 처리 기술을 사용하여 대화를 수행합니다. 사용자의 질문에 대답하거나 대화를 이어나가며 다양한 주제에 대해 정보를 제공합니다. ChatGPT는 학습을 통해 계속 발전하며 사용자와 자연스럽게 소통할 수 있습니다.',\n",
       " 'Instagram은 사진과 동영상을 공유하는 소셜 미디어 플랫폼으로, 사용자들은 자신의 일상을 시각적으로 공유하고 소통할 수 있다. 해시태그를 통해 관심사나 주제별로 다양한 콘텐츠를 찾을 수 있으며, 팔로워와 좋아요를 통해 소통과 인기를 쌓을 수 있다. 인스타그램 스토리 기능을 통해 일시적인 콘텐츠를 공유하고, 다양한 필터와 편집 기능을 통해 사진을 더욱 멋지게 편집할 수 있다.']"
      ]
     },
     "execution_count": 5,
     "metadata": {},
     "output_type": "execute_result"
    }
   ],
   "execution_count": 5
  },
  {
   "metadata": {
    "ExecuteTime": {
     "end_time": "2024-09-19T11:18:53.498975Z",
     "start_time": "2024-09-19T11:18:48.361407Z"
    }
   },
   "cell_type": "code",
   "source": [
    "# 주어진 토픽 리스트를 batch 처리하는 함수 호출\n",
    "chain.batch(\n",
    "    [\n",
    "        {\"topic\": \"ChatGPT\"}, \n",
    "        {\"topic\": \"instagram\"},\n",
    "        {\"topic\": \"멀티모달\"},\n",
    "        {\"topic\": \"선형대수학\"},\n",
    "        {\"topic\": \"랭체인\"},\n",
    "    ],\n",
    "    config={\"max_concurrency\": 3},\n",
    ")"
   ],
   "id": "47f9f56f72b53e41",
   "outputs": [
    {
     "data": {
      "text/plain": [
       "['ChatGPT는 인공지능 챗봇으로 자연어 처리 기술을 사용하여 대화를 수행합니다. 사용자의 질문에 대답하거나 대화를 이어나가는 데 사용됩니다. 다양한 주제에 대해 대화를 나누는 데 활용됩니다.',\n",
       " 'Instagram은 사진과 동영상을 공유하는 소셜 미디어 플랫폼으로, 사용자들은 자신의 일상을 시각적으로 공유하고 소통할 수 있다. 해시태그를 통해 관심사나 주제별로 다양한 콘텐츠를 찾을 수 있으며, 팔로워와 좋아요를 통해 소통과 인기도를 쌓을 수 있다. 인스타그램 스토리 기능을 통해 실시간으로 일상을 공유하고, 다양한 필터와 효과를 통해 창의적인 콘텐츠를 제작할 수 있다.',\n",
       " '멀티모달은 여러 가지 다른 형태의 커뮤니케이션 방식을 결합하여 정보를 전달하는 방법을 말합니다. 이는 텍스트, 음성, 이미지, 동영상 등 다양한 매체를 활용하여 사용자에게 다양한 경험을 제공합니다. 멀티모달은 사용자들에게 보다 풍부하고 효과적인 정보 전달을 가능하게 합니다.',\n",
       " '선형대수학은 벡터와 행렬을 다루는 수학의 한 분야로, 선형 방정식을 해결하고 공간의 변환을 분석하는데 사용된다. 벡터와 행렬의 연산을 통해 데이터를 효율적으로 처리하고 다양한 분야에서 응용되며, 기하학, 물리학, 컴퓨터 과학 등 다양한 분야에서 중요한 역할을 한다. 선형대수학은 현대 수학의 중요한 기초이며, 실생활에서도 많은 문제를 해결하는데 도움을 준다.',\n",
       " '랭체인은 블록체인 기술을 활용하여 게임 산업에 혁신을 가져오는 플랫폼이다. 게임 내 아이템의 소유권을 블록체인에 기록하여 안전하게 보관하고 거래할 수 있도록 지원한다. 또한 랭체인은 게임 개발자와 유저 간의 상호작용을 촉진하며 새로운 경제 생태계를 구축하는 데 기여한다.']"
      ]
     },
     "execution_count": 6,
     "metadata": {},
     "output_type": "execute_result"
    }
   ],
   "execution_count": 6
  },
  {
   "metadata": {
    "ExecuteTime": {
     "end_time": "2024-09-19T11:21:43.987578Z",
     "start_time": "2024-09-19T11:21:40.681023Z"
    }
   },
   "cell_type": "code",
   "source": "chain.invoke({\"topic\":\"동기 방식과 비동기 방식의 차이\"})",
   "id": "b0cbb7408f4d50fa",
   "outputs": [
    {
     "data": {
      "text/plain": [
       "'동기 방식은 작업이 순차적으로 실행되어야 하며, 한 작업이 끝나야 다음 작업이 시작되는 방식이고, 비동기 방식은 작업이 동시에 실행되거나 순서와 상관없이 실행되는 방식이다. 동기 방식은 작업이 완료될 때까지 대기해야 하지만, 비동기 방식은 작업이 완료되지 않아도 다른 작업을 계속할 수 있다. 비동기 방식은 보통 콜백 함수나 프라미스를 사용하여 작업이 완료되었을 때 결과를 처리한다.'"
      ]
     },
     "execution_count": 7,
     "metadata": {},
     "output_type": "execute_result"
    }
   ],
   "execution_count": 7
  },
  {
   "metadata": {},
   "cell_type": "markdown",
   "source": "### async stream: 비동기 스트림",
   "id": "c1ffdd3d653265c8"
  },
  {
   "metadata": {
    "ExecuteTime": {
     "end_time": "2024-09-19T11:31:31.162943Z",
     "start_time": "2024-09-19T11:31:28.622588Z"
    }
   },
   "cell_type": "code",
   "source": [
    "# 비동기 스트림을 사용\n",
    "async for token in chain.astream({\"topic\":\"YouTube\"}):\n",
    "    print(token, end=\"\", flush=True)"
   ],
   "id": "21129d46973ac0dd",
   "outputs": [
    {
     "name": "stdout",
     "output_type": "stream",
     "text": [
      "YouTube는 동영상을 업로드하고 시청할 수 있는 온라인 동영상 플랫폼이다. 사용자들은 다양한 주제의 동영상을 업로드하고 시청할 수 있으며, 댓글을 통해 소통할 수도 있다. 또한 광고 수익을 얻을 수 있는 유튜버들이 많이 활동하는 플랫폼이기도 하다."
     ]
    }
   ],
   "execution_count": 9
  },
  {
   "metadata": {},
   "cell_type": "markdown",
   "source": "### async invoke: 비동기 호출",
   "id": "2ffa834fe8360d7f"
  },
  {
   "metadata": {
    "ExecuteTime": {
     "end_time": "2024-09-19T11:34:31.183148Z",
     "start_time": "2024-09-19T11:34:31.178359Z"
    }
   },
   "cell_type": "code",
   "source": [
    "# 비동기 체인 객체의 'ainvoke'메서드를 호출하여 'NVDA'토픽을 처리함\n",
    "my_process = chain.ainvoke({\"topic\":\"NVDA\"})"
   ],
   "id": "72a27e11e2df3da9",
   "outputs": [],
   "execution_count": 10
  },
  {
   "metadata": {
    "ExecuteTime": {
     "end_time": "2024-09-19T11:34:43.444724Z",
     "start_time": "2024-09-19T11:34:41.118436Z"
    }
   },
   "cell_type": "code",
   "source": [
    "# 비동기로 처리되는 프로세스가 완료될 때까지 기다린다.\n",
    "await my_process"
   ],
   "id": "b1f29da31de48894",
   "outputs": [
    {
     "data": {
      "text/plain": [
       "'NVDA는 엔비디아(NVIDIA)의 주식 코드로, 미국의 반도체 기업으로 유명하다. 그래픽 처리 장치(GPU)를 중심으로 컴퓨터 비전, 인공지능, 자율주행차 등 다양한 분야에서 기술을 제공하고 있다. 주가는 기술 혁신과 시장 성장에 따라 변동하며, 투자자들에게 관심을 받고 있다.'"
      ]
     },
     "execution_count": 11,
     "metadata": {},
     "output_type": "execute_result"
    }
   ],
   "execution_count": 11
  },
  {
   "metadata": {},
   "cell_type": "markdown",
   "source": "### async batch: 비동기 배치",
   "id": "13bcd250cff17b1"
  },
  {
   "metadata": {
    "ExecuteTime": {
     "end_time": "2024-09-19T11:39:40.780265Z",
     "start_time": "2024-09-19T11:39:37.547612Z"
    }
   },
   "cell_type": "code",
   "source": [
    "# 주어진 토픽에 대해 비동기적으로 일괄 처리를 수행\n",
    "my_abatch_process=chain.abatch(\n",
    "    [\n",
    "        {\"topic\":\"Naver\"},\n",
    "        {\"topic\":\"instagram\"},\n",
    "        {\"topic\":\"SK hynix\"},\n",
    "    ]\n",
    ")\n",
    "\n",
    "# 비동기로 처리되는 일괄 처리 프로세스가 완료될 때 까지 기다림\n",
    "await my_abatch_process"
   ],
   "id": "d9088933c5ccdd13",
   "outputs": [
    {
     "data": {
      "text/plain": [
       "['Naver는 한국의 대표적인 포털 사이트로 검색 엔진, 뉴스, 블로그, 카페 등 다양한 컨텐츠를 제공한다. 또한 네이버는 온라인 광고 및 커머스 사업을 통해 수익을 창출하고 있다. 네이버는 한국뿐만 아니라 해외에서도 네이버 웨일, 라인 등 다양한 서비스를 제공하며 글로벌 기업으로 성장하고 있다.',\n",
       " 'Instagram은 사진과 동영상을 공유하는 소셜 미디어 플랫폼으로, 사용자들은 자신의 일상을 시각적으로 공유하고 소통할 수 있습니다. 해시태그를 통해 관심사나 주제별로 다양한 콘텐츠를 찾을 수 있으며, 팔로워와 좋아요를 통해 소통과 인기를 쌓을 수 있습니다. 또한 스토리 기능을 통해 일시적인 콘텐츠를 공유하고, 다양한 필터와 효과를 통해 사진을 더욱 멋지게 편집할 수 있습니다.',\n",
       " 'SK hynix는 세계적인 반도체 기업으로서 메모리 반도체 제조 및 판매를 주력으로 하고 있다. 회사는 한국을 본사로 하여 전 세계적으로 고객들에게 다양한 반도체 제품을 공급하고 있다. SK hynix는 혁신적인 기술과 뛰어난 품질로 시장에서 선도적인 위치를 유지하고 있다.']"
      ]
     },
     "execution_count": 12,
     "metadata": {},
     "output_type": "execute_result"
    }
   ],
   "execution_count": 12
  },
  {
   "metadata": {},
   "cell_type": "markdown",
   "source": "### Parallel: 병렬성",
   "id": "4986a824daf879ab"
  },
  {
   "metadata": {
    "ExecuteTime": {
     "end_time": "2024-09-19T12:39:05.633396Z",
     "start_time": "2024-09-19T12:39:05.614701Z"
    }
   },
   "cell_type": "code",
   "source": [
    "from langchain_core.runnables import RunnableParallel\n",
    "\n",
    "# 수도를 물어 보는 체인 생성\n",
    "chain1 = (\n",
    "    PromptTemplate.from_template(\"{country}의 수도는 어디야?\")\n",
    "    | model\n",
    "    | StrOutputParser()\n",
    ")\n",
    "\n",
    "# 면적을 물어보는 체인 생성\n",
    "chain2 = (\n",
    "    PromptTemplate.from_template(\"{country}의 면적은 얼마야?\")\n",
    "    | model\n",
    "    | StrOutputParser()\n",
    ")\n",
    "\n",
    "# 위의 2개 체인을 동시에 생성하는 병렬 실행 체인을 생성\n",
    "combined = RunnableParallel(capital=chain1, area=chain2)"
   ],
   "id": "bceebeb1162843cf",
   "outputs": [],
   "execution_count": 16
  },
  {
   "metadata": {
    "ExecuteTime": {
     "end_time": "2024-09-19T12:39:09.660653Z",
     "start_time": "2024-09-19T12:39:08.727547Z"
    }
   },
   "cell_type": "code",
   "source": "combined.invoke({\"country\":\"대한민국\"})",
   "id": "504eca7e78d381a7",
   "outputs": [
    {
     "data": {
      "text/plain": [
       "{'capital': '대한민국의 수도는 서울이다.', 'area': '대한민국의 총 면적은 약 100,363km² 입니다.'}"
      ]
     },
     "execution_count": 17,
     "metadata": {},
     "output_type": "execute_result"
    }
   ],
   "execution_count": 17
  },
  {
   "metadata": {
    "ExecuteTime": {
     "end_time": "2024-09-19T12:40:18.213548Z",
     "start_time": "2024-09-19T12:40:17.138064Z"
    }
   },
   "cell_type": "code",
   "source": "combined.batch([{\"country\": \"대한민국\"}, {\"country\": \"미국\"}])",
   "id": "614301b05c6660de",
   "outputs": [
    {
     "data": {
      "text/plain": [
       "[{'capital': '대한민국의 수도는 서울이야.', 'area': '대한민국의 총 면적은 약 100,363 제곱 킬로미터입니다.'},\n",
       " {'capital': '미국의 수도는 워싱턴 D.C.입니다.', 'area': '미국의 총 면적은 약 9,833,520 km² 입니다.'}]"
      ]
     },
     "execution_count": 18,
     "metadata": {},
     "output_type": "execute_result"
    }
   ],
   "execution_count": 18
  }
 ],
 "metadata": {
  "kernelspec": {
   "display_name": "Python 3",
   "language": "python",
   "name": "python3"
  },
  "language_info": {
   "codemirror_mode": {
    "name": "ipython",
    "version": 2
   },
   "file_extension": ".py",
   "mimetype": "text/x-python",
   "name": "python",
   "nbconvert_exporter": "python",
   "pygments_lexer": "ipython2",
   "version": "2.7.6"
  }
 },
 "nbformat": 4,
 "nbformat_minor": 5
}
