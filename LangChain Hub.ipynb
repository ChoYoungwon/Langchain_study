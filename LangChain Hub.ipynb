{
 "cells": [
  {
   "metadata": {
    "ExecuteTime": {
     "end_time": "2024-09-20T09:10:36.847192Z",
     "start_time": "2024-09-20T09:10:36.831194Z"
    }
   },
   "cell_type": "code",
   "source": [
    "from dotenv import load_dotenv\n",
    "import os\n",
    "from langchain_teddynote import logging\n",
    "\n",
    "load_dotenv()\n",
    "logging.langsmith(\"YoungWon\")"
   ],
   "id": "ad56c80f34816b55",
   "outputs": [
    {
     "name": "stdout",
     "output_type": "stream",
     "text": [
      "LangSmith 추적을 시작합니다.\n",
      "[프로젝트명]\n",
      "YoungWon\n"
     ]
    }
   ],
   "execution_count": 10
  },
  {
   "cell_type": "code",
   "id": "initial_id",
   "metadata": {
    "collapsed": true,
    "ExecuteTime": {
     "end_time": "2024-09-20T09:05:43.468608Z",
     "start_time": "2024-09-20T09:05:42.645703Z"
    }
   },
   "source": [
    "from langchain import hub\n",
    "\n",
    "# 가장 최신 버전의 프롬프트를 가져옵니다.a\n",
    "prompt = hub.pull(\"rlm/rag-prompt\")"
   ],
   "outputs": [],
   "execution_count": 3
  },
  {
   "metadata": {
    "ExecuteTime": {
     "end_time": "2024-09-20T09:05:46.894589Z",
     "start_time": "2024-09-20T09:05:46.886155Z"
    }
   },
   "cell_type": "code",
   "source": "print(prompt)",
   "id": "6b9af6ad5cef8965",
   "outputs": [
    {
     "name": "stdout",
     "output_type": "stream",
     "text": [
      "input_variables=['context', 'question'] input_types={} partial_variables={} metadata={'lc_hub_owner': 'rlm', 'lc_hub_repo': 'rag-prompt', 'lc_hub_commit_hash': '50442af133e61576e74536c6556cefe1fac147cad032f4377b60c436e6cdcb6e'} messages=[HumanMessagePromptTemplate(prompt=PromptTemplate(input_variables=['context', 'question'], input_types={}, partial_variables={}, template=\"You are an assistant for question-answering tasks. Use the following pieces of retrieved context to answer the question. If you don't know the answer, just say that you don't know. Use three sentences maximum and keep the answer concise.\\nQuestion: {question} \\nContext: {context} \\nAnswer:\"), additional_kwargs={})]\n"
     ]
    }
   ],
   "execution_count": 4
  },
  {
   "metadata": {
    "ExecuteTime": {
     "end_time": "2024-09-20T09:06:08.483462Z",
     "start_time": "2024-09-20T09:06:07.828036Z"
    }
   },
   "cell_type": "code",
   "source": [
    "# 특정 버전의 프롬프트를 가져오려면 버전 해시를 지정하세요\n",
    "prompt = hub.pull(\"rlm/rag-prompt:50442af1\")\n",
    "prompt"
   ],
   "id": "fce398f1f04dc672",
   "outputs": [
    {
     "data": {
      "text/plain": [
       "ChatPromptTemplate(input_variables=['context', 'question'], input_types={}, partial_variables={}, metadata={'lc_hub_owner': 'rlm', 'lc_hub_repo': 'rag-prompt', 'lc_hub_commit_hash': '50442af133e61576e74536c6556cefe1fac147cad032f4377b60c436e6cdcb6e'}, messages=[HumanMessagePromptTemplate(prompt=PromptTemplate(input_variables=['context', 'question'], input_types={}, partial_variables={}, template=\"You are an assistant for question-answering tasks. Use the following pieces of retrieved context to answer the question. If you don't know the answer, just say that you don't know. Use three sentences maximum and keep the answer concise.\\nQuestion: {question} \\nContext: {context} \\nAnswer:\"), additional_kwargs={})])"
      ]
     },
     "execution_count": 5,
     "metadata": {},
     "output_type": "execute_result"
    }
   ],
   "execution_count": 5
  },
  {
   "metadata": {
    "ExecuteTime": {
     "end_time": "2024-09-20T09:31:46.524651Z",
     "start_time": "2024-09-20T09:31:46.507954Z"
    }
   },
   "cell_type": "code",
   "source": [
    "from langchain.prompts import ChatPromptTemplate\n",
    "\n",
    "\n",
    "prompt = ChatPromptTemplate.from_template(\n",
    "    \"주어진 내용을 바탕으로 다음 문장을 요약하세요. 답변은 반드시 한글로 작성하세요\\n\\nCONTEXT: {context}\\n\\nSUMMARY:\"\n",
    ")\n",
    "prompt"
   ],
   "id": "18f125503d380e41",
   "outputs": [
    {
     "data": {
      "text/plain": [
       "ChatPromptTemplate(input_variables=['context'], input_types={}, partial_variables={}, messages=[HumanMessagePromptTemplate(prompt=PromptTemplate(input_variables=['context'], input_types={}, partial_variables={}, template='주어진 내용을 바탕으로 다음 문장을 요약하세요. 답변은 반드시 한글로 작성하세요\\n\\nCONTEXT: {context}\\n\\nSUMMARY:'), additional_kwargs={})])"
      ]
     },
     "execution_count": 23,
     "metadata": {},
     "output_type": "execute_result"
    }
   ],
   "execution_count": 23
  },
  {
   "metadata": {
    "ExecuteTime": {
     "end_time": "2024-09-20T09:42:01.777055Z",
     "start_time": "2024-09-20T09:42:00.835983Z"
    }
   },
   "cell_type": "code",
   "source": [
    "from langchain import hub\n",
    "\n",
    "# 프롬프트를 허브에 업로드합니다.\n",
    "hub.push(\"youngwon/api_test2\", prompt)"
   ],
   "id": "9ad28c58cd2af38c",
   "outputs": [
    {
     "ename": "LangSmithAuthError",
     "evalue": "Authentication failed for /settings. HTTPError('401 Client Error: Unauthorized for url: https://api.smith.langchain.com/settings', '{\"detail\":\"Invalid token\"}')",
     "output_type": "error",
     "traceback": [
      "\u001B[1;31m---------------------------------------------------------------------------\u001B[0m",
      "\u001B[1;31mHTTPError\u001B[0m                                 Traceback (most recent call last)",
      "File \u001B[1;32m~\\anaconda3\\envs\\AI\\Lib\\site-packages\\langsmith\\utils.py:145\u001B[0m, in \u001B[0;36mraise_for_status_with_text\u001B[1;34m(response)\u001B[0m\n\u001B[0;32m    144\u001B[0m \u001B[38;5;28;01mtry\u001B[39;00m:\n\u001B[1;32m--> 145\u001B[0m     response\u001B[38;5;241m.\u001B[39mraise_for_status()\n\u001B[0;32m    146\u001B[0m \u001B[38;5;28;01mexcept\u001B[39;00m requests\u001B[38;5;241m.\u001B[39mHTTPError \u001B[38;5;28;01mas\u001B[39;00m e:\n",
      "File \u001B[1;32m~\\anaconda3\\envs\\AI\\Lib\\site-packages\\requests\\models.py:1024\u001B[0m, in \u001B[0;36mResponse.raise_for_status\u001B[1;34m(self)\u001B[0m\n\u001B[0;32m   1023\u001B[0m \u001B[38;5;28;01mif\u001B[39;00m http_error_msg:\n\u001B[1;32m-> 1024\u001B[0m     \u001B[38;5;28;01mraise\u001B[39;00m HTTPError(http_error_msg, response\u001B[38;5;241m=\u001B[39m\u001B[38;5;28mself\u001B[39m)\n",
      "\u001B[1;31mHTTPError\u001B[0m: 401 Client Error: Unauthorized for url: https://api.smith.langchain.com/settings",
      "\nThe above exception was the direct cause of the following exception:\n",
      "\u001B[1;31mHTTPError\u001B[0m                                 Traceback (most recent call last)",
      "File \u001B[1;32m~\\anaconda3\\envs\\AI\\Lib\\site-packages\\langsmith\\client.py:785\u001B[0m, in \u001B[0;36mClient.request_with_retries\u001B[1;34m(self, method, pathname, request_kwargs, stop_after_attempt, retry_on, to_ignore, handle_response, _context, **kwargs)\u001B[0m\n\u001B[0;32m    775\u001B[0m     response \u001B[38;5;241m=\u001B[39m \u001B[38;5;28mself\u001B[39m\u001B[38;5;241m.\u001B[39msession\u001B[38;5;241m.\u001B[39mrequest(\n\u001B[0;32m    776\u001B[0m         method,\n\u001B[0;32m    777\u001B[0m         (\n\u001B[1;32m   (...)\u001B[0m\n\u001B[0;32m    783\u001B[0m         \u001B[38;5;241m*\u001B[39m\u001B[38;5;241m*\u001B[39mrequest_kwargs,\n\u001B[0;32m    784\u001B[0m     )\n\u001B[1;32m--> 785\u001B[0m ls_utils\u001B[38;5;241m.\u001B[39mraise_for_status_with_text(response)\n\u001B[0;32m    786\u001B[0m \u001B[38;5;28;01mreturn\u001B[39;00m response\n",
      "File \u001B[1;32m~\\anaconda3\\envs\\AI\\Lib\\site-packages\\langsmith\\utils.py:147\u001B[0m, in \u001B[0;36mraise_for_status_with_text\u001B[1;34m(response)\u001B[0m\n\u001B[0;32m    146\u001B[0m \u001B[38;5;28;01mexcept\u001B[39;00m requests\u001B[38;5;241m.\u001B[39mHTTPError \u001B[38;5;28;01mas\u001B[39;00m e:\n\u001B[1;32m--> 147\u001B[0m     \u001B[38;5;28;01mraise\u001B[39;00m requests\u001B[38;5;241m.\u001B[39mHTTPError(\u001B[38;5;28mstr\u001B[39m(e), response\u001B[38;5;241m.\u001B[39mtext) \u001B[38;5;28;01mfrom\u001B[39;00m \u001B[38;5;21;01me\u001B[39;00m  \u001B[38;5;66;03m# type: ignore[call-arg]\u001B[39;00m\n\u001B[0;32m    149\u001B[0m \u001B[38;5;28;01mexcept\u001B[39;00m httpx\u001B[38;5;241m.\u001B[39mHTTPError \u001B[38;5;28;01mas\u001B[39;00m e:\n",
      "\u001B[1;31mHTTPError\u001B[0m: [Errno 401 Client Error: Unauthorized for url: https://api.smith.langchain.com/settings] {\"detail\":\"Invalid token\"}",
      "\nDuring handling of the above exception, another exception occurred:\n",
      "\u001B[1;31mLangSmithAuthError\u001B[0m                        Traceback (most recent call last)",
      "Cell \u001B[1;32mIn[25], line 4\u001B[0m\n\u001B[0;32m      1\u001B[0m \u001B[38;5;28;01mfrom\u001B[39;00m \u001B[38;5;21;01mlangchain\u001B[39;00m \u001B[38;5;28;01mimport\u001B[39;00m hub\n\u001B[0;32m      3\u001B[0m \u001B[38;5;66;03m# 프롬프트를 허브에 업로드합니다.\u001B[39;00m\n\u001B[1;32m----> 4\u001B[0m hub\u001B[38;5;241m.\u001B[39mpush(\u001B[38;5;124m\"\u001B[39m\u001B[38;5;124myoungwon/api_test2\u001B[39m\u001B[38;5;124m\"\u001B[39m, prompt)\n",
      "File \u001B[1;32m~\\anaconda3\\envs\\AI\\Lib\\site-packages\\langchain\\hub.py:71\u001B[0m, in \u001B[0;36mpush\u001B[1;34m(repo_full_name, object, api_url, api_key, parent_commit_hash, new_repo_is_public, new_repo_description, readme, tags)\u001B[0m\n\u001B[0;32m     69\u001B[0m \u001B[38;5;66;03m# Then it's langsmith\u001B[39;00m\n\u001B[0;32m     70\u001B[0m \u001B[38;5;28;01mif\u001B[39;00m \u001B[38;5;28mhasattr\u001B[39m(client, \u001B[38;5;124m\"\u001B[39m\u001B[38;5;124mpush_prompt\u001B[39m\u001B[38;5;124m\"\u001B[39m):\n\u001B[1;32m---> 71\u001B[0m     \u001B[38;5;28;01mreturn\u001B[39;00m client\u001B[38;5;241m.\u001B[39mpush_prompt(\n\u001B[0;32m     72\u001B[0m         repo_full_name,\n\u001B[0;32m     73\u001B[0m         \u001B[38;5;28mobject\u001B[39m\u001B[38;5;241m=\u001B[39m\u001B[38;5;28mobject\u001B[39m,\n\u001B[0;32m     74\u001B[0m         parent_commit_hash\u001B[38;5;241m=\u001B[39mparent_commit_hash,\n\u001B[0;32m     75\u001B[0m         is_public\u001B[38;5;241m=\u001B[39mnew_repo_is_public,\n\u001B[0;32m     76\u001B[0m         description\u001B[38;5;241m=\u001B[39mnew_repo_description,\n\u001B[0;32m     77\u001B[0m         readme\u001B[38;5;241m=\u001B[39mreadme,\n\u001B[0;32m     78\u001B[0m         tags\u001B[38;5;241m=\u001B[39mtags,\n\u001B[0;32m     79\u001B[0m     )\n\u001B[0;32m     81\u001B[0m \u001B[38;5;66;03m# Then it's langchainhub\u001B[39;00m\n\u001B[0;32m     82\u001B[0m manifest_json \u001B[38;5;241m=\u001B[39m dumps(\u001B[38;5;28mobject\u001B[39m)\n",
      "File \u001B[1;32m~\\anaconda3\\envs\\AI\\Lib\\site-packages\\langsmith\\client.py:5384\u001B[0m, in \u001B[0;36mClient.push_prompt\u001B[1;34m(self, prompt_identifier, object, parent_commit_hash, is_public, description, readme, tags)\u001B[0m\n\u001B[0;32m   5376\u001B[0m         \u001B[38;5;28mself\u001B[39m\u001B[38;5;241m.\u001B[39mupdate_prompt(\n\u001B[0;32m   5377\u001B[0m             prompt_identifier,\n\u001B[0;32m   5378\u001B[0m             description\u001B[38;5;241m=\u001B[39mdescription,\n\u001B[1;32m   (...)\u001B[0m\n\u001B[0;32m   5381\u001B[0m             is_public\u001B[38;5;241m=\u001B[39mis_public,\n\u001B[0;32m   5382\u001B[0m         )\n\u001B[0;32m   5383\u001B[0m \u001B[38;5;28;01melse\u001B[39;00m:\n\u001B[1;32m-> 5384\u001B[0m     \u001B[38;5;28mself\u001B[39m\u001B[38;5;241m.\u001B[39mcreate_prompt(\n\u001B[0;32m   5385\u001B[0m         prompt_identifier,\n\u001B[0;32m   5386\u001B[0m         is_public\u001B[38;5;241m=\u001B[39mis_public,\n\u001B[0;32m   5387\u001B[0m         description\u001B[38;5;241m=\u001B[39mdescription,\n\u001B[0;32m   5388\u001B[0m         readme\u001B[38;5;241m=\u001B[39mreadme,\n\u001B[0;32m   5389\u001B[0m         tags\u001B[38;5;241m=\u001B[39mtags,\n\u001B[0;32m   5390\u001B[0m     )\n\u001B[0;32m   5392\u001B[0m \u001B[38;5;28;01mif\u001B[39;00m \u001B[38;5;28mobject\u001B[39m \u001B[38;5;129;01mis\u001B[39;00m \u001B[38;5;28;01mNone\u001B[39;00m:\n\u001B[0;32m   5393\u001B[0m     \u001B[38;5;28;01mreturn\u001B[39;00m \u001B[38;5;28mself\u001B[39m\u001B[38;5;241m.\u001B[39m_get_prompt_url(prompt_identifier\u001B[38;5;241m=\u001B[39mprompt_identifier)\n",
      "File \u001B[1;32m~\\anaconda3\\envs\\AI\\Lib\\site-packages\\langsmith\\client.py:5078\u001B[0m, in \u001B[0;36mClient.create_prompt\u001B[1;34m(self, prompt_identifier, description, readme, tags, is_public)\u001B[0m\n\u001B[0;32m   5051\u001B[0m \u001B[38;5;28;01mdef\u001B[39;00m \u001B[38;5;21mcreate_prompt\u001B[39m(\n\u001B[0;32m   5052\u001B[0m     \u001B[38;5;28mself\u001B[39m,\n\u001B[0;32m   5053\u001B[0m     prompt_identifier: \u001B[38;5;28mstr\u001B[39m,\n\u001B[1;32m   (...)\u001B[0m\n\u001B[0;32m   5058\u001B[0m     is_public: \u001B[38;5;28mbool\u001B[39m \u001B[38;5;241m=\u001B[39m \u001B[38;5;28;01mFalse\u001B[39;00m,\n\u001B[0;32m   5059\u001B[0m ) \u001B[38;5;241m-\u001B[39m\u001B[38;5;241m>\u001B[39m ls_schemas\u001B[38;5;241m.\u001B[39mPrompt:\n\u001B[0;32m   5060\u001B[0m \u001B[38;5;250m    \u001B[39m\u001B[38;5;124;03m\"\"\"Create a new prompt.\u001B[39;00m\n\u001B[0;32m   5061\u001B[0m \n\u001B[0;32m   5062\u001B[0m \u001B[38;5;124;03m    Does not attach prompt object, just creates an empty prompt.\u001B[39;00m\n\u001B[1;32m   (...)\u001B[0m\n\u001B[0;32m   5076\u001B[0m \u001B[38;5;124;03m        HTTPError: If the server request fails.\u001B[39;00m\n\u001B[0;32m   5077\u001B[0m \u001B[38;5;124;03m    \"\"\"\u001B[39;00m\n\u001B[1;32m-> 5078\u001B[0m     settings \u001B[38;5;241m=\u001B[39m \u001B[38;5;28mself\u001B[39m\u001B[38;5;241m.\u001B[39m_get_settings()\n\u001B[0;32m   5079\u001B[0m     \u001B[38;5;28;01mif\u001B[39;00m is_public \u001B[38;5;129;01mand\u001B[39;00m \u001B[38;5;129;01mnot\u001B[39;00m settings\u001B[38;5;241m.\u001B[39mtenant_handle:\n\u001B[0;32m   5080\u001B[0m         \u001B[38;5;28;01mraise\u001B[39;00m ls_utils\u001B[38;5;241m.\u001B[39mLangSmithUserError(\n\u001B[0;32m   5081\u001B[0m             \u001B[38;5;124m\"\u001B[39m\u001B[38;5;124mCannot create a public prompt without first\u001B[39m\u001B[38;5;130;01m\\n\u001B[39;00m\u001B[38;5;124m\"\u001B[39m\n\u001B[0;32m   5082\u001B[0m             \u001B[38;5;124m\"\u001B[39m\u001B[38;5;124mcreating a LangChain Hub handle. \u001B[39m\u001B[38;5;124m\"\u001B[39m\n\u001B[0;32m   5083\u001B[0m             \u001B[38;5;124m\"\u001B[39m\u001B[38;5;124mYou can add a handle by creating a public prompt at:\u001B[39m\u001B[38;5;130;01m\\n\u001B[39;00m\u001B[38;5;124m\"\u001B[39m\n\u001B[0;32m   5084\u001B[0m             \u001B[38;5;124m\"\u001B[39m\u001B[38;5;124mhttps://smith.langchain.com/prompts\u001B[39m\u001B[38;5;124m\"\u001B[39m\n\u001B[0;32m   5085\u001B[0m         )\n",
      "File \u001B[1;32m~\\anaconda3\\envs\\AI\\Lib\\site-packages\\langsmith\\client.py:664\u001B[0m, in \u001B[0;36mClient._get_settings\u001B[1;34m(self)\u001B[0m\n\u001B[0;32m    658\u001B[0m \u001B[38;5;250m\u001B[39m\u001B[38;5;124;03m\"\"\"Get the settings for the current tenant.\u001B[39;00m\n\u001B[0;32m    659\u001B[0m \n\u001B[0;32m    660\u001B[0m \u001B[38;5;124;03mReturns:\u001B[39;00m\n\u001B[0;32m    661\u001B[0m \u001B[38;5;124;03m    dict: The settings for the current tenant.\u001B[39;00m\n\u001B[0;32m    662\u001B[0m \u001B[38;5;124;03m\"\"\"\u001B[39;00m\n\u001B[0;32m    663\u001B[0m \u001B[38;5;28;01mif\u001B[39;00m \u001B[38;5;28mself\u001B[39m\u001B[38;5;241m.\u001B[39m_settings \u001B[38;5;129;01mis\u001B[39;00m \u001B[38;5;28;01mNone\u001B[39;00m:\n\u001B[1;32m--> 664\u001B[0m     response \u001B[38;5;241m=\u001B[39m \u001B[38;5;28mself\u001B[39m\u001B[38;5;241m.\u001B[39mrequest_with_retries(\u001B[38;5;124m\"\u001B[39m\u001B[38;5;124mGET\u001B[39m\u001B[38;5;124m\"\u001B[39m, \u001B[38;5;124m\"\u001B[39m\u001B[38;5;124m/settings\u001B[39m\u001B[38;5;124m\"\u001B[39m)\n\u001B[0;32m    665\u001B[0m     ls_utils\u001B[38;5;241m.\u001B[39mraise_for_status_with_text(response)\n\u001B[0;32m    666\u001B[0m     \u001B[38;5;28mself\u001B[39m\u001B[38;5;241m.\u001B[39m_settings \u001B[38;5;241m=\u001B[39m ls_schemas\u001B[38;5;241m.\u001B[39mLangSmithSettings(\u001B[38;5;241m*\u001B[39m\u001B[38;5;241m*\u001B[39mresponse\u001B[38;5;241m.\u001B[39mjson())\n",
      "File \u001B[1;32m~\\anaconda3\\envs\\AI\\Lib\\site-packages\\langsmith\\client.py:815\u001B[0m, in \u001B[0;36mClient.request_with_retries\u001B[1;34m(self, method, pathname, request_kwargs, stop_after_attempt, retry_on, to_ignore, handle_response, _context, **kwargs)\u001B[0m\n\u001B[0;32m    810\u001B[0m     \u001B[38;5;28;01mraise\u001B[39;00m ls_utils\u001B[38;5;241m.\u001B[39mLangSmithRateLimitError(\n\u001B[0;32m    811\u001B[0m         \u001B[38;5;124mf\u001B[39m\u001B[38;5;124m\"\u001B[39m\u001B[38;5;124mRate limit exceeded for \u001B[39m\u001B[38;5;132;01m{\u001B[39;00mpathname\u001B[38;5;132;01m}\u001B[39;00m\u001B[38;5;124m. \u001B[39m\u001B[38;5;132;01m{\u001B[39;00m\u001B[38;5;28mrepr\u001B[39m(e)\u001B[38;5;132;01m}\u001B[39;00m\u001B[38;5;124m\"\u001B[39m\n\u001B[0;32m    812\u001B[0m         \u001B[38;5;124mf\u001B[39m\u001B[38;5;124m\"\u001B[39m\u001B[38;5;132;01m{\u001B[39;00m_context\u001B[38;5;132;01m}\u001B[39;00m\u001B[38;5;124m\"\u001B[39m\n\u001B[0;32m    813\u001B[0m     )\n\u001B[0;32m    814\u001B[0m \u001B[38;5;28;01melif\u001B[39;00m response\u001B[38;5;241m.\u001B[39mstatus_code \u001B[38;5;241m==\u001B[39m \u001B[38;5;241m401\u001B[39m:\n\u001B[1;32m--> 815\u001B[0m     \u001B[38;5;28;01mraise\u001B[39;00m ls_utils\u001B[38;5;241m.\u001B[39mLangSmithAuthError(\n\u001B[0;32m    816\u001B[0m         \u001B[38;5;124mf\u001B[39m\u001B[38;5;124m\"\u001B[39m\u001B[38;5;124mAuthentication failed for \u001B[39m\u001B[38;5;132;01m{\u001B[39;00mpathname\u001B[38;5;132;01m}\u001B[39;00m\u001B[38;5;124m. \u001B[39m\u001B[38;5;132;01m{\u001B[39;00m\u001B[38;5;28mrepr\u001B[39m(e)\u001B[38;5;132;01m}\u001B[39;00m\u001B[38;5;124m\"\u001B[39m\n\u001B[0;32m    817\u001B[0m         \u001B[38;5;124mf\u001B[39m\u001B[38;5;124m\"\u001B[39m\u001B[38;5;132;01m{\u001B[39;00m_context\u001B[38;5;132;01m}\u001B[39;00m\u001B[38;5;124m\"\u001B[39m\n\u001B[0;32m    818\u001B[0m     )\n\u001B[0;32m    819\u001B[0m \u001B[38;5;28;01melif\u001B[39;00m response\u001B[38;5;241m.\u001B[39mstatus_code \u001B[38;5;241m==\u001B[39m \u001B[38;5;241m404\u001B[39m:\n\u001B[0;32m    820\u001B[0m     \u001B[38;5;28;01mraise\u001B[39;00m ls_utils\u001B[38;5;241m.\u001B[39mLangSmithNotFoundError(\n\u001B[0;32m    821\u001B[0m         \u001B[38;5;124mf\u001B[39m\u001B[38;5;124m\"\u001B[39m\u001B[38;5;124mResource not found for \u001B[39m\u001B[38;5;132;01m{\u001B[39;00mpathname\u001B[38;5;132;01m}\u001B[39;00m\u001B[38;5;124m. \u001B[39m\u001B[38;5;132;01m{\u001B[39;00m\u001B[38;5;28mrepr\u001B[39m(e)\u001B[38;5;132;01m}\u001B[39;00m\u001B[38;5;124m\"\u001B[39m\n\u001B[0;32m    822\u001B[0m         \u001B[38;5;124mf\u001B[39m\u001B[38;5;124m\"\u001B[39m\u001B[38;5;132;01m{\u001B[39;00m_context\u001B[38;5;132;01m}\u001B[39;00m\u001B[38;5;124m\"\u001B[39m\n\u001B[0;32m    823\u001B[0m     )\n",
      "\u001B[1;31mLangSmithAuthError\u001B[0m: Authentication failed for /settings. HTTPError('401 Client Error: Unauthorized for url: https://api.smith.langchain.com/settings', '{\"detail\":\"Invalid token\"}')"
     ]
    }
   ],
   "execution_count": 25
  },
  {
   "metadata": {
    "ExecuteTime": {
     "end_time": "2024-09-20T09:31:27.330458Z",
     "start_time": "2024-09-20T09:31:26.577804Z"
    }
   },
   "cell_type": "code",
   "source": [
    "from langchain import hub\n",
    "\n",
    "# 프롬프트를 허브로부터 가져옵니다.\n",
    "# set the LANGCHAIN_API_KEY environment variable (create key in settings)\n",
    "from langchain import hub\n",
    "prompt = hub.pull(\"youngwon/api_test\")"
   ],
   "id": "e3165da2f383fe19",
   "outputs": [],
   "execution_count": 21
  },
  {
   "metadata": {
    "ExecuteTime": {
     "end_time": "2024-09-20T09:31:29.952841Z",
     "start_time": "2024-09-20T09:31:29.937609Z"
    }
   },
   "cell_type": "code",
   "source": "print(prompt)",
   "id": "7045840d06097c17",
   "outputs": [
    {
     "name": "stdout",
     "output_type": "stream",
     "text": [
      "input_variables=['question'] input_types={} partial_variables={} metadata={'lc_hub_owner': 'youngwon', 'lc_hub_repo': 'api_test', 'lc_hub_commit_hash': 'a3fb5137b4590731d5a12519468564940399c35006229e60466b8f62dd8f7a02'} messages=[SystemMessagePromptTemplate(prompt=PromptTemplate(input_variables=[], input_types={}, partial_variables={}, template='You are a chatbot.'), additional_kwargs={}), HumanMessagePromptTemplate(prompt=PromptTemplate(input_variables=['question'], input_types={}, partial_variables={}, template='{question}'), additional_kwargs={})]\n"
     ]
    }
   ],
   "execution_count": 22
  },
  {
   "metadata": {},
   "cell_type": "code",
   "outputs": [],
   "execution_count": null,
   "source": "",
   "id": "b9d6adfe211bf02b"
  }
 ],
 "metadata": {
  "kernelspec": {
   "display_name": "Python 3",
   "language": "python",
   "name": "python3"
  },
  "language_info": {
   "codemirror_mode": {
    "name": "ipython",
    "version": 2
   },
   "file_extension": ".py",
   "mimetype": "text/x-python",
   "name": "python",
   "nbconvert_exporter": "python",
   "pygments_lexer": "ipython2",
   "version": "2.7.6"
  }
 },
 "nbformat": 4,
 "nbformat_minor": 5
}
