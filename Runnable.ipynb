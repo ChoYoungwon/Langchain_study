{
 "cells": [
  {
   "cell_type": "code",
   "id": "initial_id",
   "metadata": {
    "collapsed": true,
    "ExecuteTime": {
     "end_time": "2024-09-19T12:56:48.933211Z",
     "start_time": "2024-09-19T12:56:48.874200Z"
    }
   },
   "source": [
    "from dotenv import load_dotenv\n",
    "import os\n",
    "from langchain_teddynote import logging\n",
    "\n",
    "load_dotenv()\n",
    "logging.langsmith(\"YoungWon\")"
   ],
   "outputs": [
    {
     "name": "stdout",
     "output_type": "stream",
     "text": [
      "LangSmith 추적을 시작합니다.\n",
      "[프로젝트명]\n",
      "YoungWon\n"
     ]
    }
   ],
   "execution_count": 1
  },
  {
   "metadata": {},
   "cell_type": "markdown",
   "source": "### RunnablePassthrough",
   "id": "612d86b423d79f59"
  },
  {
   "metadata": {
    "ExecuteTime": {
     "end_time": "2024-09-19T13:03:02.846338Z",
     "start_time": "2024-09-19T13:02:56.163772Z"
    }
   },
   "cell_type": "code",
   "source": [
    "from langchain_openai import ChatOpenAI\n",
    "from langchain_core.prompts import PromptTemplate\n",
    "\n",
    "# api 키 가져오기\n",
    "openai_api_key = os.getenv(\"OPENAI_API_KEY\")\n",
    "\n",
    "# LLM 모델 생성\n",
    "model = ChatOpenAI(\n",
    "    api_key = openai_api_key,\n",
    "    model = \"gpt-3.5-turbo\",\n",
    "    max_tokens=2048,\n",
    "    temperature=0\n",
    ")\n",
    "\n",
    "# 프롬프트 템플릿 설정\n",
    "prompt = PromptTemplate.from_template(\"{num}의 10배는?\")\n",
    "\n",
    "# 체인 생성\n",
    "chain = prompt | model"
   ],
   "id": "8aaf7ad71e4bea2d",
   "outputs": [],
   "execution_count": 2
  },
  {
   "metadata": {
    "ExecuteTime": {
     "end_time": "2024-09-19T13:03:16.282452Z",
     "start_time": "2024-09-19T13:03:15.120661Z"
    }
   },
   "cell_type": "code",
   "source": "chain.invoke({\"num\":5})",
   "id": "b029f87671c9503f",
   "outputs": [
    {
     "data": {
      "text/plain": [
       "AIMessage(content='50', additional_kwargs={'refusal': None}, response_metadata={'token_usage': {'completion_tokens': 1, 'prompt_tokens': 15, 'total_tokens': 16, 'completion_tokens_details': {'reasoning_tokens': 0}}, 'model_name': 'gpt-3.5-turbo-0125', 'system_fingerprint': None, 'finish_reason': 'stop', 'logprobs': None}, id='run-e4413697-514c-4b6e-9382-4dbd3022a18d-0', usage_metadata={'input_tokens': 15, 'output_tokens': 1, 'total_tokens': 16})"
      ]
     },
     "execution_count": 3,
     "metadata": {},
     "output_type": "execute_result"
    }
   ],
   "execution_count": 3
  },
  {
   "metadata": {
    "ExecuteTime": {
     "end_time": "2024-09-19T13:04:27.989726Z",
     "start_time": "2024-09-19T13:04:27.344343Z"
    }
   },
   "cell_type": "code",
   "source": [
    "# 1개의 변수만 템플릿에 포함하고 있다면 값만 전달하는 것도 가능함\n",
    "chain.invoke(5)"
   ],
   "id": "f2fa2e52faa9ef34",
   "outputs": [
    {
     "data": {
      "text/plain": [
       "AIMessage(content='50', additional_kwargs={'refusal': None}, response_metadata={'token_usage': {'completion_tokens': 1, 'prompt_tokens': 15, 'total_tokens': 16, 'completion_tokens_details': {'reasoning_tokens': 0}}, 'model_name': 'gpt-3.5-turbo-0125', 'system_fingerprint': None, 'finish_reason': 'stop', 'logprobs': None}, id='run-210ebe73-ef8c-4e50-aaf0-daff89e6b512-0', usage_metadata={'input_tokens': 15, 'output_tokens': 1, 'total_tokens': 16})"
      ]
     },
     "execution_count": 4,
     "metadata": {},
     "output_type": "execute_result"
    }
   ],
   "execution_count": 4
  },
  {
   "metadata": {
    "ExecuteTime": {
     "end_time": "2024-09-19T13:05:34.952242Z",
     "start_time": "2024-09-19T13:05:34.930824Z"
    }
   },
   "cell_type": "code",
   "source": [
    "# RunnablePassthrough를 사용한 예제\n",
    "from langchain_core.runnables import RunnablePassthrough\n",
    "\n",
    "# runnable\n",
    "RunnablePassthrough().invoke({\"num\":10})"
   ],
   "id": "1af0771c047fb34a",
   "outputs": [
    {
     "data": {
      "text/plain": [
       "{'num': 10}"
      ]
     },
     "execution_count": 5,
     "metadata": {},
     "output_type": "execute_result"
    }
   ],
   "execution_count": 5
  },
  {
   "metadata": {
    "ExecuteTime": {
     "end_time": "2024-09-19T13:08:45.616313Z",
     "start_time": "2024-09-19T13:08:44.896822Z"
    }
   },
   "cell_type": "code",
   "source": [
    "runnable_chain = {\"num\": RunnablePassthrough()} | prompt | model\n",
    "\n",
    "# dict 값이 RunnablePassthrough로 변경되었음\n",
    "runnable_chain.invoke(10)"
   ],
   "id": "aad68af6f92a9875",
   "outputs": [
    {
     "data": {
      "text/plain": [
       "AIMessage(content='100입니다.', additional_kwargs={'refusal': None}, response_metadata={'token_usage': {'completion_tokens': 3, 'prompt_tokens': 15, 'total_tokens': 18, 'completion_tokens_details': {'reasoning_tokens': 0}}, 'model_name': 'gpt-3.5-turbo-0125', 'system_fingerprint': None, 'finish_reason': 'stop', 'logprobs': None}, id='run-87b1c5ae-5697-4f7a-8d85-ca5186fed3d3-0', usage_metadata={'input_tokens': 15, 'output_tokens': 3, 'total_tokens': 18})"
      ]
     },
     "execution_count": 6,
     "metadata": {},
     "output_type": "execute_result"
    }
   ],
   "execution_count": 6
  },
  {
   "metadata": {
    "ExecuteTime": {
     "end_time": "2024-09-19T13:12:36.232343Z",
     "start_time": "2024-09-19T13:12:36.210841Z"
    }
   },
   "cell_type": "code",
   "source": "RunnablePassthrough().invoke({\"num\":1})",
   "id": "2ec4ae8e3877f02",
   "outputs": [
    {
     "data": {
      "text/plain": [
       "{'num': 1}"
      ]
     },
     "execution_count": 7,
     "metadata": {},
     "output_type": "execute_result"
    }
   ],
   "execution_count": 7
  },
  {
   "metadata": {
    "ExecuteTime": {
     "end_time": "2024-09-19T13:14:16.544505Z",
     "start_time": "2024-09-19T13:14:16.512690Z"
    }
   },
   "cell_type": "code",
   "source": [
    "# 입력 키 : num, 할당(assign)키 : new_num\n",
    "(RunnablePassthrough.assign(new_num=lambda x: x[\"num\"] * 3)).invoke({\"num\":1})"
   ],
   "id": "8413499a568bdd17",
   "outputs": [
    {
     "data": {
      "text/plain": [
       "{'num': 1, 'new_num': 3}"
      ]
     },
     "execution_count": 8,
     "metadata": {},
     "output_type": "execute_result"
    }
   ],
   "execution_count": 8
  },
  {
   "metadata": {},
   "cell_type": "markdown",
   "source": "### RunnableParallel",
   "id": "f9ea87f041d38a24"
  },
  {
   "metadata": {
    "ExecuteTime": {
     "end_time": "2024-09-19T13:18:36.734714Z",
     "start_time": "2024-09-19T13:18:36.698926Z"
    }
   },
   "cell_type": "code",
   "source": [
    "from langchain_core.runnables import RunnableParallel\n",
    "\n",
    "# RunnableParallel 인스턴스를 생성\n",
    "runnable = RunnableParallel(\n",
    "    # RunnableParallel 인스턴스를 'passed'키워드 인자로 전달 (입력된 데이터를 그대로 통과시키는 역할)\n",
    "    passed=RunnablePassthrough(),\n",
    "    \n",
    "    # 'extra' 키워드 인자로 'mult'람다 함수를 할당함 (num 값을 3배로 증가시킨다)\n",
    "    extra=RunnablePassthrough.assign(mult=lambda x: x[\"num\"] * 3),\n",
    "    \n",
    "    # 'modified' 키워드 인자로 람다 함수를 전달함. (num 값에 1을 더함)\n",
    "    modified=lambda x: x[\"num\"] + 1,\n",
    ")\n",
    "\n",
    "# runnable 인스턴스에 딕셔너리를 입력으로 전달하여 invoke 메소드를 호출한다. \n",
    "runnable.invoke({\"num\": 1})"
   ],
   "id": "7d74caaabae6d3ac",
   "outputs": [
    {
     "data": {
      "text/plain": [
       "{'passed': {'num': 1}, 'extra': {'num': 1, 'mult': 3}, 'modified': 2}"
      ]
     },
     "execution_count": 9,
     "metadata": {},
     "output_type": "execute_result"
    }
   ],
   "execution_count": 9
  },
  {
   "metadata": {
    "ExecuteTime": {
     "end_time": "2024-09-19T13:24:48.073784Z",
     "start_time": "2024-09-19T13:24:46.914100Z"
    }
   },
   "cell_type": "code",
   "source": [
    "chain1 = (\n",
    "    {\"country\":RunnablePassthrough()}\n",
    "    | PromptTemplate.from_template(\"{country}의 수도는?\")\n",
    "    | model\n",
    ")\n",
    "\n",
    "chain2 = (\n",
    "    {\"country\":RunnablePassthrough()}\n",
    "    | PromptTemplate.from_template(\"{country}의 인구수는?\")\n",
    "    | model\n",
    ")\n",
    "\n",
    "combined_chain = RunnableParallel(capital=chain1, number=chain2)\n",
    "combined_chain.invoke(\"대한민국\")"
   ],
   "id": "dc9c143d5b0985f4",
   "outputs": [
    {
     "data": {
      "text/plain": [
       "{'capital': AIMessage(content='서울입니다.', additional_kwargs={'refusal': None}, response_metadata={'token_usage': {'completion_tokens': 5, 'prompt_tokens': 18, 'total_tokens': 23, 'completion_tokens_details': {'reasoning_tokens': 0}}, 'model_name': 'gpt-3.5-turbo-0125', 'system_fingerprint': None, 'finish_reason': 'stop', 'logprobs': None}, id='run-27fdfc08-8b3e-46a3-bef1-f415c58caba0-0', usage_metadata={'input_tokens': 18, 'output_tokens': 5, 'total_tokens': 23}),\n",
       " 'number': AIMessage(content='2021년 9월 기준으로 대한민국의 인구수는 약 5천만 명입니다.', additional_kwargs={'refusal': None}, response_metadata={'token_usage': {'completion_tokens': 34, 'prompt_tokens': 19, 'total_tokens': 53, 'completion_tokens_details': {'reasoning_tokens': 0}}, 'model_name': 'gpt-3.5-turbo-0125', 'system_fingerprint': None, 'finish_reason': 'stop', 'logprobs': None}, id='run-3e1cda39-7958-420e-8d54-a8d450e26c1b-0', usage_metadata={'input_tokens': 19, 'output_tokens': 34, 'total_tokens': 53})}"
      ]
     },
     "execution_count": 10,
     "metadata": {},
     "output_type": "execute_result"
    }
   ],
   "execution_count": 10
  },
  {
   "metadata": {},
   "cell_type": "markdown",
   "source": "### RunnableLambda",
   "id": "59b270e4830ab20f"
  },
  {
   "metadata": {
    "ExecuteTime": {
     "end_time": "2024-09-19T16:34:59.139231Z",
     "start_time": "2024-09-19T16:34:59.111185Z"
    }
   },
   "cell_type": "code",
   "source": [
    "from langchain_core.output_parsers import StrOutputParser\n",
    "from langchain_core.prompts import PromptTemplate\n",
    "from langchain_openai import ChatOpenAI\n",
    "from datetime import datetime\n",
    "\n",
    "def get_today(a):\n",
    "    return datetime.today().strftime(\"%b-%d\")\n",
    "\n",
    "get_today(None)"
   ],
   "id": "3207ec03ae9f7bd3",
   "outputs": [
    {
     "data": {
      "text/plain": [
       "'Sep-20'"
      ]
     },
     "execution_count": 11,
     "metadata": {},
     "output_type": "execute_result"
    }
   ],
   "execution_count": 11
  },
  {
   "metadata": {
    "ExecuteTime": {
     "end_time": "2024-09-19T16:42:29.129274Z",
     "start_time": "2024-09-19T16:42:17.175484Z"
    }
   },
   "cell_type": "code",
   "source": [
    "from langchain_core.runnables import RunnableLambda, RunnablePassthrough\n",
    "\n",
    "prompt = PromptTemplate.from_template(\n",
    "    \"{today} 가 생일인 유명인 {n} 명을 나열하세요. 생년월일을 표기해 주세요\"\n",
    ")\n",
    "\n",
    "llm = ChatOpenAI(\n",
    "    api_key = openai_api_key,\n",
    "    model = \"gpt-4-turbo\",\n",
    "    temperature = 0\n",
    ")\n",
    "\n",
    "# chain 생성\n",
    "chain = (\n",
    "    {\"today\": RunnableLambda(get_today), \n",
    "     \"n\":RunnablePassthrough()}\n",
    "    | prompt\n",
    "    | llm\n",
    "    | StrOutputParser()\n",
    ")\n",
    "\n",
    "print(chain.invoke(3))"
   ],
   "id": "255393eb9fae8ad2",
   "outputs": [
    {
     "name": "stdout",
     "output_type": "stream",
     "text": [
      "다음은 9월 20일에 태어난 유명인 세 명과 그들의 생년월일입니다:\n",
      "\n",
      "1. 소피아 로렌 (Sophia Loren) - 1934년 9월 20일\n",
      "   이탈리아 출신의 유명한 배우로, 그녀는 여러 국제적인 상을 수상하며 세계적으로 인정받은 연기자입니다.\n",
      "\n",
      "2. 조지 R. R. 마틴 (George R. R. Martin) - 1948년 9월 20일\n",
      "   미국의 판타지, 호러, 과학 소설 작가로 가장 잘 알려진 작품은 \"얼음과 불의 노래\" 시리즈로, 이는 \"왕좌의 게임\" TV 시리즈의 원작입니다.\n",
      "\n",
      "3. 문근영 (Moon Geun-young) - 1987년 9월 20일\n",
      "   대한민국의 배우로, 어린 시절부터 연기를 시작하여 \"괴물\", \"청소년의 덫\", \"가을동화\" 등 다양한 드라마와 영화에서 활약하였습니다.\n"
     ]
    }
   ],
   "execution_count": 15
  },
  {
   "metadata": {},
   "cell_type": "code",
   "outputs": [],
   "execution_count": null,
   "source": "",
   "id": "9d5c3a6fb11f2818"
  }
 ],
 "metadata": {
  "kernelspec": {
   "display_name": "Python 3",
   "language": "python",
   "name": "python3"
  },
  "language_info": {
   "codemirror_mode": {
    "name": "ipython",
    "version": 2
   },
   "file_extension": ".py",
   "mimetype": "text/x-python",
   "name": "python",
   "nbconvert_exporter": "python",
   "pygments_lexer": "ipython2",
   "version": "2.7.6"
  }
 },
 "nbformat": 4,
 "nbformat_minor": 5
}
