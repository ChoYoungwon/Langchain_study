{
 "cells": [
  {
   "cell_type": "code",
   "id": "initial_id",
   "metadata": {
    "collapsed": true,
    "ExecuteTime": {
     "end_time": "2024-09-15T12:25:56.747917Z",
     "start_time": "2024-09-15T12:25:56.737690Z"
    }
   },
   "source": [
    "from dotenv import load_dotenv\n",
    "import os\n",
    "from langchain_teddynote import logging\n",
    "\n",
    "load_dotenv()\n",
    "logging.langsmith(\"YoungWon\")"
   ],
   "outputs": [
    {
     "name": "stdout",
     "output_type": "stream",
     "text": [
      "LangSmith 추적을 시작합니다.\n",
      "[프로젝트명]\n",
      "YoungWon\n"
     ]
    }
   ],
   "execution_count": 7
  },
  {
   "metadata": {},
   "cell_type": "markdown",
   "source": "### 프롬프트 템플릿의 활용",
   "id": "dc8e484f985d221a"
  },
  {
   "metadata": {
    "ExecuteTime": {
     "end_time": "2024-09-15T12:25:51.085437Z",
     "start_time": "2024-09-15T12:25:47.053633Z"
    }
   },
   "cell_type": "code",
   "source": [
    "from langchain_teddynote.messages import stream_response    # 스트리밍 출력\n",
    "from langchain_core.prompts import PromptTemplate\n",
    "\n",
    "template = \"{country}의 수도는 어디인가요?\"\n",
    "\n",
    "prompt_template = PromptTemplate.from_template(template)\n",
    "prompt_template"
   ],
   "id": "922233bc0be754f1",
   "outputs": [
    {
     "data": {
      "text/plain": [
       "PromptTemplate(input_variables=['country'], input_types={}, partial_variables={}, template='{country}의 수도는 어디인가요?')"
      ]
     },
     "execution_count": 2,
     "metadata": {},
     "output_type": "execute_result"
    }
   ],
   "execution_count": 2
  },
  {
   "metadata": {
    "ExecuteTime": {
     "end_time": "2024-09-15T12:25:51.321463Z",
     "start_time": "2024-09-15T12:25:51.310649Z"
    }
   },
   "cell_type": "code",
   "source": [
    "prompt = prompt_template.format(country=\"대한민국\")\n",
    "prompt"
   ],
   "id": "2852bbe09e5e4507",
   "outputs": [
    {
     "data": {
      "text/plain": [
       "'대한민국의 수도는 어디인가요?'"
      ]
     },
     "execution_count": 3,
     "metadata": {},
     "output_type": "execute_result"
    }
   ],
   "execution_count": 3
  },
  {
   "metadata": {},
   "cell_type": "code",
   "outputs": [],
   "execution_count": null,
   "source": [
    "prompt = prompt_template.format(country=\"미국\")\n",
    "prompt"
   ],
   "id": "1ee9de63b1cc4a83"
  },
  {
   "metadata": {},
   "cell_type": "markdown",
   "source": [
    "### Chain 생성\n",
    "\n",
    "#### invoke() 호출 \n",
    "- python 딕셔너리 형태로 입력값을 전달\n",
    "- invoke() 함수 호출 시, 입력값을 전달"
   ],
   "id": "763ebcdd15ab37a"
  },
  {
   "metadata": {
    "ExecuteTime": {
     "end_time": "2024-09-15T12:29:52.605622Z",
     "start_time": "2024-09-15T12:29:46.183946Z"
    }
   },
   "cell_type": "code",
   "source": [
    "from langchain_openai import ChatOpenAI\n",
    "\n",
    "openai_api_key = os.getenv(\"OPENAI_API_KEY\")\n",
    "\n",
    "model = ChatOpenAI(\n",
    "    api_key=openai_api_key,\n",
    "    model=\"gpt-3.5-turbo\",\n",
    "    max_tokens=2048,\n",
    "    temperature=0.1,\n",
    ")\n",
    "\n",
    "prompt = PromptTemplate.from_template(\"{topic}에 대해 쉽게 설명해주세요\")\n",
    "\n",
    "chain = prompt | model\n",
    "\n",
    "input = {\"topic\": \"인공지능 모델의 학습 원리\"}\n",
    "\n",
    "chain.invoke(input)"
   ],
   "id": "18a070d5eded38d9",
   "outputs": [
    {
     "data": {
      "text/plain": [
       "AIMessage(content='인공지능 모델의 학습 원리는 데이터를 입력으로 받아들이고, 이 데이터를 분석하여 패턴을 찾아내는 과정입니다. 이 과정은 크게 입력층, 은닉층, 출력층으로 구성된 인공신경망을 사용하여 이루어집니다.\\n\\n먼저, 입력층에는 데이터가 입력되고, 은닉층에서는 입력된 데이터를 분석하여 패턴을 찾아냅니다. 이후, 출력층에서는 은닉층에서 찾아낸 패턴을 바탕으로 결과를 출력합니다.\\n\\n이러한 과정을 반복하면 모델은 점차적으로 데이터의 패턴을 학습하고, 새로운 데이터가 입력되었을 때 정확한 결과를 예측할 수 있게 됩니다. 이렇게 학습된 모델은 다양한 분야에서 활용되어 사람들의 일상생활을 편리하게 해주는 다양한 서비스를 제공하고 있습니다.', additional_kwargs={'refusal': None}, response_metadata={'token_usage': {'completion_tokens': 300, 'prompt_tokens': 32, 'total_tokens': 332, 'completion_tokens_details': {'reasoning_tokens': 0}}, 'model_name': 'gpt-3.5-turbo-0125', 'system_fingerprint': None, 'finish_reason': 'stop', 'logprobs': None}, id='run-25aefc79-bfe7-473f-bdda-d504a9293a06-0', usage_metadata={'input_tokens': 32, 'output_tokens': 300, 'total_tokens': 332})"
      ]
     },
     "execution_count": 9,
     "metadata": {},
     "output_type": "execute_result"
    }
   ],
   "execution_count": 9
  },
  {
   "metadata": {
    "ExecuteTime": {
     "end_time": "2024-09-15T12:32:28.255782Z",
     "start_time": "2024-09-15T12:32:23.289401Z"
    }
   },
   "cell_type": "code",
   "source": [
    "answer = chain.stream(input)\n",
    "stream_response(answer)"
   ],
   "id": "68fbc0f7ae0f022c",
   "outputs": [
    {
     "name": "stdout",
     "output_type": "stream",
     "text": [
      "인공지능 모델의 학습 원리는 데이터를 입력으로 받아들이고 이를 처리하여 원하는 결과를 출력하는 과정입니다. 이 과정은 크게 입력층, 은닉층, 출력층으로 구성된 인공신경망을 사용하여 이루어집니다.\n",
      "\n",
      "먼저, 모델은 입력층에서 데이터를 받아들입니다. 이 데이터는 숫자로 이루어진 벡터 형태로 표현되며, 각각의 숫자는 모델이 학습할 특징을 나타냅니다. \n",
      "\n",
      "다음으로, 입력된 데이터는 은닉층을 거쳐 처리됩니다. 은닉층은 입력층과 출력층 사이에 위치하며, 입력된 데이터에 가중치를 곱하고 편향을 더하여 새로운 값을 계산합니다. 이를 통해 모델은 입력된 데이터의 패턴을 학습하고 추상화된 특징을 추출합니다.\n",
      "\n",
      "마지막으로, 출력층에서는 은닉층을 거친 데이터를 최종적으로 처리하여 원하는 결과를 출력합니다. 이 결과는 모델이 학습한 패턴을 바탕으로 예측된 값이며, 이를 토대로 모델의 성능을 평가하고 개선하는 과정을 반복합니다.\n",
      "\n",
      "이렇게 모델은 입력된 데이터와 원하는 결과를 비교하면서 학습을 진행하고, 가중치와 편향을 조정하여 최적의 결과를 도출합니다. 이러한 과정을 통해 인공지능 모델은 주어진 데이터를 학습하고 예측하는 능력을 향상시킵니다."
     ]
    }
   ],
   "execution_count": 10
  },
  {
   "metadata": {},
   "cell_type": "markdown",
   "source": "### 출력파서(Output Parser)",
   "id": "2baf8f87901833b"
  },
  {
   "metadata": {
    "ExecuteTime": {
     "end_time": "2024-09-15T12:35:06.472994Z",
     "start_time": "2024-09-15T12:35:01.596344Z"
    }
   },
   "cell_type": "code",
   "source": [
    "from langchain_core.output_parsers import StrOutputParser\n",
    "\n",
    "output_parser = StrOutputParser()\n",
    "\n",
    "chain = prompt | model | output_parser\n",
    "\n",
    "input = {\"topic\" : \"인공지능 모델의 학습 원리\"}\n",
    "\n",
    "chain.invoke(input)\n",
    "\n",
    "answer = chain.stream(input)\n",
    "stream_response(answer)"
   ],
   "id": "9ca36ce203a29476",
   "outputs": [
    {
     "name": "stdout",
     "output_type": "stream",
     "text": [
      "인공지능 모델의 학습 원리는 데이터를 입력으로 받아들이고 이를 분석하여 패턴을 찾아내는 과정입니다. 모델은 입력된 데이터를 기반으로 가중치를 조정하고 최적의 결정을 내리는 방법을 학습합니다. 이를 통해 모델은 주어진 데이터에 대한 패턴을 학습하고, 새로운 데이터에 대해 예측이나 분류를 수행할 수 있게 됩니다. 학습 과정에서 모델은 오차를 최소화하도록 가중치를 조정하며, 이를 통해 데이터에 대한 정확한 예측을 할 수 있게 됩니다."
     ]
    }
   ],
   "execution_count": 12
  },
  {
   "metadata": {
    "ExecuteTime": {
     "end_time": "2024-09-15T12:40:16.663020Z",
     "start_time": "2024-09-15T12:40:11.768044Z"
    }
   },
   "cell_type": "code",
   "source": [
    "template = \"\"\"\n",
    "당신은 영어를 가르치는 10년차 영어 선생님입니다. 상황에 [FORMAT]에 영어 회화를 작성해 주세요.\n",
    "\n",
    "상황: \n",
    "{question}\n",
    "\n",
    "Format:\n",
    "- 영어 회화:\n",
    "- 한글 해석:\n",
    "\"\"\"\n",
    "\n",
    "# 프롬프트 템플릿을 이용해 프롬프트를 생성\n",
    "prompt = PromptTemplate.from_template(template)\n",
    "\n",
    "# ChatOpenAI 챗 모델 초기화\n",
    "model = ChatOpenAI(model_name=\"gpt-4-turbo\")\n",
    "\n",
    "# 문자열 출력 파서를 초기화\n",
    "output_parser = StrOutputParser()\n",
    "\n",
    "chain = prompt | model | output_parser\n",
    "\n",
    "answer = chain.stream({\"question\":\"저는 식당에서 음식을 주문하고 싶어요\"})\n",
    "stream_response(answer)"
   ],
   "id": "6109ed1b6b7b9a3c",
   "outputs": [
    {
     "name": "stdout",
     "output_type": "stream",
     "text": [
      "영어 회화:\n",
      "- Hello, I'd like to order now, please.\n",
      "- Could I get the grilled salmon with a side of vegetables?\n",
      "- And for my drink, I'll have a glass of water, thank you.\n",
      "- That's all for now. How long do you think it will take?\n",
      "\n",
      "한글 해석:\n",
      "- 안녕하세요, 지금 주문하고 싶어요.\n",
      "- 구운 연어와 야채 사이드를 주문할 수 있을까요?\n",
      "- 음료는 물 한 잔으로 할게요, 감사합니다.\n",
      "- 이게 다예요. 얼마나 걸릴까요?"
     ]
    }
   ],
   "execution_count": 14
  },
  {
   "metadata": {
    "ExecuteTime": {
     "end_time": "2024-09-15T12:41:50.659685Z",
     "start_time": "2024-09-15T12:41:38.976432Z"
    }
   },
   "cell_type": "code",
   "source": [
    "answer = chain.stream({\"question\":\"미국 입국 심사\"})\n",
    "stream_response(answer)"
   ],
   "id": "596a492341d5841b",
   "outputs": [
    {
     "name": "stdout",
     "output_type": "stream",
     "text": [
      "영어 회화:\n",
      "- Immigration Officer: \"Good morning, may I see your passport and any customs declaration form?\"\n",
      "- Traveler: \"Good morning! Here is my passport and the form.\"\n",
      "- Immigration Officer: \"Thank you. What is the purpose of your visit?\"\n",
      "- Traveler: \"I'm here for tourism. I plan to visit several landmarks and enjoy some local cuisine.\"\n",
      "- Immigration Officer: \"Sounds great. How long do you plan to stay?\"\n",
      "- Traveler: \"I will be staying for two weeks.\"\n",
      "- Immigration Officer: \"Where will you be staying during your visit?\"\n",
      "- Traveler: \"I have reservations at a hotel in downtown Manhattan.\"\n",
      "- Immigration Officer: \"Okay, everything seems in order. Welcome to the United States. Enjoy your stay!\"\n",
      "- Traveler: \"Thank you very much!\"\n",
      "\n",
      "한글 해석:\n",
      "- 입국 심사관: \"좋은 아침입니다, 여권과 세관 신고서를 볼 수 있을까요?\"\n",
      "- 여행자: \"좋은 아침입니다! 여기 여권과 신고서가 있습니다.\"\n",
      "- 입국 심사관: \"감사합니다. 방문 목적이 무엇인가요?\"\n",
      "- 여행자: \"관광을 위해 왔습니다. 몇몇 명소를 방문하고 현지 음식을 즐길 계획입니다.\"\n",
      "- 입국 심사관: \"좋네요. 얼마 동안 머무를 예정인가요?\"\n",
      "- 여행자: \"2주 동안 머무를 예정입니다.\"\n",
      "- 입국 심사관: \"방문 동안 어디에 머무를 예정인가요?\"\n",
      "- 여행자: \"맨해튼 시내의 호텔에 예약을 해 놓았습니다.\"\n",
      "- 입국 심사관: \"알겠습니다, 모든 것이 순서대로 되어 있네요. 미국에 오신 것을 환영합니다. 즐거운 시간 보내세요!\"\n",
      "- 여행자: \"감사합니다!\""
     ]
    }
   ],
   "execution_count": 15
  },
  {
   "metadata": {},
   "cell_type": "code",
   "outputs": [],
   "execution_count": null,
   "source": "",
   "id": "18827d37b6c8d2dd"
  }
 ],
 "metadata": {
  "kernelspec": {
   "display_name": "Python 3",
   "language": "python",
   "name": "python3"
  },
  "language_info": {
   "codemirror_mode": {
    "name": "ipython",
    "version": 2
   },
   "file_extension": ".py",
   "mimetype": "text/x-python",
   "name": "python",
   "nbconvert_exporter": "python",
   "pygments_lexer": "ipython2",
   "version": "2.7.6"
  }
 },
 "nbformat": 4,
 "nbformat_minor": 5
}
