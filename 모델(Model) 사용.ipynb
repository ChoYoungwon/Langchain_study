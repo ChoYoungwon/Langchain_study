{
 "cells": [
  {
   "metadata": {},
   "cell_type": "markdown",
   "source": "### 캐싱(Cache)",
   "id": "c6ec9efc850b7483"
  },
  {
   "metadata": {
    "ExecuteTime": {
     "end_time": "2024-09-21T06:34:01.409362Z",
     "start_time": "2024-09-21T06:34:01.371343Z"
    }
   },
   "cell_type": "code",
   "source": [
    "# API KEY를 환경변수로 관리하기 위한 설정 파일\n",
    "from dotenv import load_dotenv\n",
    "\n",
    "# API KEY 정보로드\n",
    "load_dotenv()"
   ],
   "id": "a2be6cc9be644025",
   "outputs": [
    {
     "data": {
      "text/plain": [
       "True"
      ]
     },
     "execution_count": 1,
     "metadata": {},
     "output_type": "execute_result"
    }
   ],
   "execution_count": 1
  },
  {
   "metadata": {
    "ExecuteTime": {
     "end_time": "2024-09-21T06:34:14.307453Z",
     "start_time": "2024-09-21T06:34:14.286485Z"
    }
   },
   "cell_type": "code",
   "source": [
    "# LangSmith 추적을 설정합니다. https://smith.langchain.com\n",
    "# !pip install langchain-teddynote\n",
    "from langchain_teddynote import logging\n",
    "\n",
    "# 프로젝트 이름을 입력합니다.\n",
    "logging.langsmith(\"YougWon\")"
   ],
   "id": "ee65bbd75fcf4243",
   "outputs": [
    {
     "name": "stdout",
     "output_type": "stream",
     "text": [
      "LangSmith 추적을 시작합니다.\n",
      "[프로젝트명]\n",
      "YougWon\n"
     ]
    }
   ],
   "execution_count": 3
  },
  {
   "cell_type": "code",
   "id": "initial_id",
   "metadata": {
    "collapsed": true,
    "ExecuteTime": {
     "end_time": "2024-09-21T06:34:32.666854Z",
     "start_time": "2024-09-21T06:34:28.219354Z"
    }
   },
   "source": [
    "from langchain_openai import ChatOpenAI\n",
    "from langchain_core.prompts import PromptTemplate\n",
    "\n",
    "# 모델을 생성합니다.\n",
    "llm = ChatOpenAI(model_name=\"gpt-3.5-turbo\")\n",
    "\n",
    "# 프롬프트를 생성합니다.\n",
    "prompt = PromptTemplate.from_template(\"{country} 에 대해서 200자 내외로 요약해줘\")\n",
    "\n",
    "# 체인을 생성합니다.\n",
    "chain = prompt | llm"
   ],
   "outputs": [],
   "execution_count": 4
  },
  {
   "metadata": {
    "ExecuteTime": {
     "end_time": "2024-09-21T06:34:43.018323Z",
     "start_time": "2024-09-21T06:34:39.421208Z"
    }
   },
   "cell_type": "code",
   "source": [
    "%%time \n",
    "response = chain.invoke({\"country\": \"한국\"})\n",
    "print(response.content)"
   ],
   "id": "91731808d2ec0896",
   "outputs": [
    {
     "name": "stdout",
     "output_type": "stream",
     "text": [
      "한국은 동아시아에 위치한 나라로, 역사적으로 한반도를 중심으로 형성되었으며 수도는 서울이다. 전통문화와 현대기술이 공존하는 나라로, 한류 열풍과 K-pop, K-drama 등이 세계적으로 인기를 끌고 있다. 또한 경제적으로 선진국으로 발전하여 IT 기술과 자동차 산업을 선도하고 있다. 한국은 높은 교육 수준과 체계적인 교육제도로 유명하며, 고등수준의 대학교들이 있어 국제 학생들에게 인기가 많다. 또한 한반도의 아름다운 자연환경과 전통적인 문화유산들도 많이 보유하고 있다. 현재는 북한과의 관계 등 정치적인 문제들을 해결하기 위해 노력하고 있으며, 국제사회에서도 활발한 역할을 하고 있다.\n",
      "CPU times: total: 31.2 ms\n",
      "Wall time: 3.59 s\n"
     ]
    }
   ],
   "execution_count": 5
  },
  {
   "metadata": {},
   "cell_type": "markdown",
   "source": "### InMemoryCache",
   "id": "b349362447559368"
  },
  {
   "metadata": {
    "ExecuteTime": {
     "end_time": "2024-09-21T06:37:26.136029Z",
     "start_time": "2024-09-21T06:37:23.161229Z"
    }
   },
   "cell_type": "code",
   "source": [
    "%%time\n",
    "from langchain.globals import set_llm_cache\n",
    "from langchain.cache import InMemoryCache\n",
    "\n",
    "# 인메모리 캐시를 사용합니다.\n",
    "set_llm_cache(InMemoryCache())\n",
    "\n",
    "# 체인을 실행합니다.\n",
    "response = chain.invoke({\"country\": \"한국\"})\n",
    "print(response.content)"
   ],
   "id": "e9472494d4a76897",
   "outputs": [
    {
     "name": "stdout",
     "output_type": "stream",
     "text": [
      "한국은 동아시아에 위치한 고유의 문화와 역사를 자랑하는 나라이다. 수도는 서울이며, 인구는 약 5천만 명으로 세계에서 27번째로 인구 밀도가 높은 나라이다. 경제는 선진국으로 발전하며 세계적으로 유명한 기업들이 많이 발달해있다. 한류 열풍으로 한국의 문화, 음식, 영화, 음악 등이 전 세계적으로 인기를 끌고 있다. 또한 한반도 북쪽에 북한이 위치하여 남북 간의 긴장 상태가 이어지고 있는 것이 특징이다. 한국은 고대부터 현대까지 다양한 역사적 사건과 문화적 유산들을 가지고 있어 많은 이들이 관심을 가지고 있는 나라이다.\n",
      "CPU times: total: 0 ns\n",
      "Wall time: 2.97 s\n"
     ]
    }
   ],
   "execution_count": 8
  },
  {
   "metadata": {
    "ExecuteTime": {
     "end_time": "2024-09-21T06:38:30.321666Z",
     "start_time": "2024-09-21T06:38:30.301884Z"
    }
   },
   "cell_type": "code",
   "source": [
    "%%time\n",
    "# 체인을 실행\n",
    "response = chain.invoke({\"country\": \"한국\"})\n",
    "print(response.content)"
   ],
   "id": "ba9971fb3c52b1da",
   "outputs": [
    {
     "name": "stdout",
     "output_type": "stream",
     "text": [
      "한국은 동아시아에 위치한 고유의 문화와 역사를 자랑하는 나라이다. 수도는 서울이며, 인구는 약 5천만 명으로 세계에서 27번째로 인구 밀도가 높은 나라이다. 경제는 선진국으로 발전하며 세계적으로 유명한 기업들이 많이 발달해있다. 한류 열풍으로 한국의 문화, 음식, 영화, 음악 등이 전 세계적으로 인기를 끌고 있다. 또한 한반도 북쪽에 북한이 위치하여 남북 간의 긴장 상태가 이어지고 있는 것이 특징이다. 한국은 고대부터 현대까지 다양한 역사적 사건과 문화적 유산들을 가지고 있어 많은 이들이 관심을 가지고 있는 나라이다.\n",
      "CPU times: total: 0 ns\n",
      "Wall time: 0 ns\n"
     ]
    }
   ],
   "execution_count": 10
  },
  {
   "metadata": {
    "ExecuteTime": {
     "end_time": "2024-09-21T06:40:43.043944Z",
     "start_time": "2024-09-21T06:40:42.970473Z"
    }
   },
   "cell_type": "code",
   "source": [
    "from langchain_community.cache import SQLiteCache\n",
    "from langchain_core.globals import set_llm_cache\n",
    "import os\n",
    "\n",
    "# 캐시 디렉토리를 생성함\n",
    "if not os.path.exists(\"cache\"):\n",
    "    os.makedirs(\"cache\")\n",
    "    \n",
    "# SQLiteCache를 사용\n",
    "set_llm_cache(SQLiteCache(database_path=\"cache/llm_cache.db\"))"
   ],
   "id": "c168882f805d26aa",
   "outputs": [],
   "execution_count": 11
  },
  {
   "metadata": {
    "ExecuteTime": {
     "end_time": "2024-09-21T06:41:16.649261Z",
     "start_time": "2024-09-21T06:41:13.587340Z"
    }
   },
   "cell_type": "code",
   "source": [
    "%%time\n",
    "response = chain.invoke({\"country\": \"한국\"})\n",
    "print(response.content)"
   ],
   "id": "1b56824d9c5f751a",
   "outputs": [
    {
     "name": "stdout",
     "output_type": "stream",
     "text": [
      "한국은 동아시아에 위치한 고도로 발전한 산업국가로, 혼밥 문화가 강조되는 나라이다. 또한, 한류 열풍으로 한국의 문화와 엔터테인먼트 콘텐츠가 전 세계적으로 인기를 끌고 있다. 한국은 또한 세계적으로 유명한 기업들이 많이 발달해 있으며, IT 기술과 자동차 산업에서도 선두를 달리고 있다. 한국은 또한 전통적인 문화와 현대적인 요소가 조화를 이루고 있으며, 자연경관도 아름답다. 한국은 고도로 발달한 경제와 문화를 가지고 있는 동양의 보석이라고 할 수 있다.\n",
      "CPU times: total: 0 ns\n",
      "Wall time: 3.06 s\n"
     ]
    }
   ],
   "execution_count": 12
  },
  {
   "metadata": {},
   "cell_type": "code",
   "outputs": [],
   "execution_count": null,
   "source": "",
   "id": "783eb60f97185314"
  }
 ],
 "metadata": {
  "kernelspec": {
   "display_name": "Python 3",
   "language": "python",
   "name": "python3"
  },
  "language_info": {
   "codemirror_mode": {
    "name": "ipython",
    "version": 2
   },
   "file_extension": ".py",
   "mimetype": "text/x-python",
   "name": "python",
   "nbconvert_exporter": "python",
   "pygments_lexer": "ipython2",
   "version": "2.7.6"
  }
 },
 "nbformat": 4,
 "nbformat_minor": 5
}
