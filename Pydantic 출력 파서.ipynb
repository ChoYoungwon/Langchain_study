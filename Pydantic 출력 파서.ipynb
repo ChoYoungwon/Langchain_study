{
 "cells": [
  {
   "cell_type": "code",
   "id": "initial_id",
   "metadata": {
    "collapsed": true,
    "ExecuteTime": {
     "end_time": "2024-09-20T10:04:21.817503Z",
     "start_time": "2024-09-20T10:04:21.731722Z"
    }
   },
   "source": [
    "from dotenv import load_dotenv\n",
    "import os\n",
    "from langchain_teddynote import logging\n",
    "\n",
    "load_dotenv()\n",
    "logging.langsmith(\"YoungWon\")"
   ],
   "outputs": [
    {
     "name": "stdout",
     "output_type": "stream",
     "text": [
      "LangSmith 추적을 시작합니다.\n",
      "[프로젝트명]\n",
      "YoungWon\n"
     ]
    }
   ],
   "execution_count": 1
  },
  {
   "metadata": {
    "ExecuteTime": {
     "end_time": "2024-09-20T10:05:06.547754Z",
     "start_time": "2024-09-20T10:05:04.481638Z"
    }
   },
   "cell_type": "code",
   "source": "from langchain_teddynote.messages import stream_response",
   "id": "11b71bcdd5807108",
   "outputs": [],
   "execution_count": 2
  },
  {
   "metadata": {
    "ExecuteTime": {
     "end_time": "2024-09-20T10:15:17.611349Z",
     "start_time": "2024-09-20T10:15:16.339783Z"
    }
   },
   "cell_type": "code",
   "source": [
    "from langchain_openai import ChatOpenAI\n",
    "from langchain_core.output_parsers import PydanticOutputParser\n",
    "from langchain_core.pydantic_v1 import BaseModel, Field   # 버전 오류 \n",
    "\n",
    "openai_api_key=os.getenv(\"OPENAI_API_KEY\")\n",
    "\n",
    "llm = ChatOpenAI(\n",
    "    api_key=openai_api_key,\n",
    "    temperature=0, \n",
    "    model_name=\"gpt-4-turbo\"\n",
    ")"
   ],
   "id": "2cde3b3e2fe882da",
   "outputs": [],
   "execution_count": 11
  },
  {
   "metadata": {
    "ExecuteTime": {
     "end_time": "2024-09-20T10:15:19.476805Z",
     "start_time": "2024-09-20T10:15:19.471265Z"
    }
   },
   "cell_type": "code",
   "source": [
    "email_conversation = \"\"\"From: 김철수 (chulsoo.kim@bikecorporation.me)\n",
    "To: 이은채 (eunchae@teddyinternational.me)\n",
    "Subject: \"ZENESIS\" 자전거 유통 협력 및 미팅 일정 제안\n",
    "\n",
    "안녕하세요, 이은채 대리님,\n",
    "\n",
    "저는 바이크코퍼레이션의 김철수 상무입니다. 최근 보도자료를 통해 귀사의 신규 자전거 \"ZENESIS\"에 대해 알게 되었습니다. 바이크코퍼레이션은 자전거 제조 및 유통 분야에서 혁신과 품질을 선도하는 기업으로, 이 분야에서의 장기적인 경험과 전문성을 가지고 있습니다.\n",
    "\n",
    "ZENESIS 모델에 대한 상세한 브로슈어를 요청드립니다. 특히 기술 사양, 배터리 성능, 그리고 디자인 측면에 대한 정보가 필요합니다. 이를 통해 저희가 제안할 유통 전략과 마케팅 계획을 보다 구체화할 수 있을 것입니다.\n",
    "\n",
    "또한, 협력 가능성을 더 깊이 논의하기 위해 다음 주 화요일(1월 15일) 오전 10시에 미팅을 제안합니다. 귀사 사무실에서 만나 이야기를 나눌 수 있을까요?\n",
    "\n",
    "감사합니다.\n",
    "\n",
    "김철수\n",
    "상무이사\n",
    "바이크코퍼레이션\n",
    "\"\"\""
   ],
   "id": "c2135c3403b7c80f",
   "outputs": [],
   "execution_count": 12
  },
  {
   "metadata": {
    "ExecuteTime": {
     "end_time": "2024-09-20T10:15:32.197697Z",
     "start_time": "2024-09-20T10:15:21.819789Z"
    }
   },
   "cell_type": "code",
   "source": [
    "from itertools import chain\n",
    "from langchain_core.prompts import PromptTemplate\n",
    "\n",
    "prompt = PromptTemplate.from_template(\n",
    "    \"다음의 이메일 내용중 중요한 내용을 추출해 주세요.\\n\\n{email_conversation}\"\n",
    ")\n",
    "\n",
    "chain = prompt | llm\n",
    "\n",
    "answer = chain.stream({\"email_conversation\": email_conversation})\n",
    "\n",
    "output = stream_response(answer, return_output=True)"
   ],
   "id": "7ec361f5be173b4e",
   "outputs": [
    {
     "name": "stdout",
     "output_type": "stream",
     "text": [
      "1. 김철수 상무는 바이크코퍼레이션 소속으로, 이은채 대리에게 이메일을 보냈습니다.\n",
      "2. 김철수 상무는 이은채 대리의 회사인 테디인터내셔널의 신규 자전거 \"ZENESIS\"에 관심을 표명하고, 자전거의 기술 사양, 배터리 성능, 디자인에 대한 상세한 브로슈어를 요청했습니다.\n",
      "3. 김철수 상무는 ZENESIS 모델의 유통 전략과 마케팅 계획을 구체화하기 위해 이 정보가 필요하다고 언급했습니다.\n",
      "4. 협력 가능성을 더 깊이 논의하기 위해 다음 주 화요일(1월 15일) 오전 10시에 미팅을 제안했으며, 이은채 대리의 사무실에서 만나기를 원합니다."
     ]
    }
   ],
   "execution_count": 13
  },
  {
   "metadata": {
    "ExecuteTime": {
     "end_time": "2024-09-20T10:16:23.475411Z",
     "start_time": "2024-09-20T10:16:23.462148Z"
    }
   },
   "cell_type": "code",
   "source": [
    "from pydantic import BaseModel, Field\n",
    "\n",
    "class EmailSummary(BaseModel):\n",
    "    person: str = Field(description=\"메일을 보낸 사람\")\n",
    "    email: str = Field(description=\"메일을 보낸 사람의 이메일 주소\")\n",
    "    subject: str = Field(description=\"메일 제목\")\n",
    "    summary: str = Field(description=\"메일 본문을 요약한 텍스트\")\n",
    "    date: str = Field(description=\"메일 본문에 언급된 미팅 날짜와 시간\")\n",
    "\n",
    "# PydanticOutputParser 생성\n",
    "parser = PydanticOutputParser(pydantic_object=EmailSummary)\n",
    "\n",
    "print(parser.get_format_instructions())"
   ],
   "id": "c220ad966815bd1f",
   "outputs": [
    {
     "name": "stdout",
     "output_type": "stream",
     "text": [
      "The output should be formatted as a JSON instance that conforms to the JSON schema below.\n",
      "\n",
      "As an example, for the schema {\"properties\": {\"foo\": {\"title\": \"Foo\", \"description\": \"a list of strings\", \"type\": \"array\", \"items\": {\"type\": \"string\"}}}, \"required\": [\"foo\"]}\n",
      "the object {\"foo\": [\"bar\", \"baz\"]} is a well-formatted instance of the schema. The object {\"properties\": {\"foo\": [\"bar\", \"baz\"]}} is not well-formatted.\n",
      "\n",
      "Here is the output schema:\n",
      "```\n",
      "{\"properties\": {\"person\": {\"description\": \"메일을 보낸 사람\", \"title\": \"Person\", \"type\": \"string\"}, \"email\": {\"description\": \"메일을 보낸 사람의 이메일 주소\", \"title\": \"Email\", \"type\": \"string\"}, \"subject\": {\"description\": \"메일 제목\", \"title\": \"Subject\", \"type\": \"string\"}, \"summary\": {\"description\": \"메일 본문을 요약한 텍스트\", \"title\": \"Summary\", \"type\": \"string\"}, \"date\": {\"description\": \"메일 본문에 언급된 미팅 날짜와 시간\", \"title\": \"Date\", \"type\": \"string\"}}, \"required\": [\"person\", \"email\", \"subject\", \"summary\", \"date\"]}\n",
      "```\n"
     ]
    }
   ],
   "execution_count": 16
  },
  {
   "metadata": {
    "ExecuteTime": {
     "end_time": "2024-09-20T10:19:03.258681Z",
     "start_time": "2024-09-20T10:19:03.248946Z"
    }
   },
   "cell_type": "code",
   "source": [
    "prompt = PromptTemplate.from_template(\n",
    "    \"\"\"\n",
    "You are a helpful assistant. Please answer the following questions in KOREAN.\n",
    "\n",
    "QUESTION:\n",
    "{question}\n",
    "\n",
    "EMAIL CONVERSATION:\n",
    "{email_conversation}\n",
    "\n",
    "FORMAT:\n",
    "{format}\n",
    "\"\"\"\n",
    ")\n",
    "\n",
    "# format 에 PydanticOutputParser의 부분 포맷팅(partial) 추가\n",
    "prompt = prompt.partial(format=parser.get_format_instructions())\n",
    "\n",
    "# chain 생성\n",
    "chain = prompt | llm"
   ],
   "id": "ce02047f142fba15",
   "outputs": [],
   "execution_count": 18
  },
  {
   "metadata": {
    "ExecuteTime": {
     "end_time": "2024-09-20T10:20:41.999996Z",
     "start_time": "2024-09-20T10:20:30.338907Z"
    }
   },
   "cell_type": "code",
   "source": [
    "# chain을 실행하고 결과를 출력한다.\n",
    "response = chain.stream(\n",
    "    {\n",
    "    \"email_conversation\": email_conversation,\n",
    "    \"question\": \"이메일 내용중 주요 내용을 추출해 주세요\"\n",
    "    }\n",
    ")\n",
    "\n",
    "# 결과는 JSON 형태로 출력됨\n",
    "output = stream_response(response, return_output=True)"
   ],
   "id": "d4a9219e6afbfb31",
   "outputs": [
    {
     "name": "stdout",
     "output_type": "stream",
     "text": [
      "```json\n",
      "{\n",
      "  \"person\": \"김철수 상무\",\n",
      "  \"email\": \"chulsoo.kim@bikecorporation.me\",\n",
      "  \"subject\": \"\\\"ZENESIS\\\" 자전거 유통 협력 및 미팅 일정 제안\",\n",
      "  \"summary\": \"김철수 상무는 바이크코퍼레이션에서 근무하며, 귀사의 신규 자전거 'ZENESIS'에 대한 상세한 브로슈어를 요청하고, 기술 사양, 배터리 성능, 디자인 정보를 필요로 합니다. 이를 통해 유통 전략과 마케팅 계획을 구체화하고자 합니다. 또한, 협력 가능성을 논의하기 위해 다음 주 화요일 오전 10시에 미팅을 제안합니다.\",\n",
      "  \"date\": \"1월 15일 오전 10시\"\n",
      "}\n",
      "```"
     ]
    }
   ],
   "execution_count": 19
  },
  {
   "metadata": {
    "ExecuteTime": {
     "end_time": "2024-09-20T14:27:42.836179Z",
     "start_time": "2024-09-20T14:27:42.689925Z"
    }
   },
   "cell_type": "code",
   "source": [
    "# PydanticOutputParser를 사용하여 결과를 파싱\n",
    "structured_output = parser.parse(output)\n",
    "print(structured_output)"
   ],
   "id": "9f86e98d357b49fb",
   "outputs": [
    {
     "name": "stdout",
     "output_type": "stream",
     "text": [
      "person='김철수 상무' email='chulsoo.kim@bikecorporation.me' subject='\"ZENESIS\" 자전거 유통 협력 및 미팅 일정 제안' summary=\"김철수 상무는 바이크코퍼레이션에서 근무하며, 귀사의 신규 자전거 'ZENESIS'에 대한 상세한 브로슈어를 요청하고, 기술 사양, 배터리 성능, 디자인 정보를 필요로 합니다. 이를 통해 유통 전략과 마케팅 계획을 구체화하고자 합니다. 또한, 협력 가능성을 논의하기 위해 다음 주 화요일 오전 10시에 미팅을 제안합니다.\" date='1월 15일 오전 10시'\n"
     ]
    }
   ],
   "execution_count": 20
  },
  {
   "metadata": {
    "ExecuteTime": {
     "end_time": "2024-09-20T14:30:31.806568Z",
     "start_time": "2024-09-20T14:30:20.711425Z"
    }
   },
   "cell_type": "code",
   "source": [
    "# 출력 파서를 추가하여 전체 체인을 재구성\n",
    "chain = prompt | llm | parser\n",
    "\n",
    "# chain을 실행하고 결과를 출력\n",
    "response = chain.invoke(\n",
    "    {\n",
    "        \"email_conversation\": email_conversation,\n",
    "        \"question\": \"이메일 내용중 주요 내용을 추출해 주세요\",\n",
    "    }\n",
    ")\n",
    "response"
   ],
   "id": "a321caf83234e805",
   "outputs": [
    {
     "data": {
      "text/plain": [
       "EmailSummary(person='김철수 상무', email='chulsoo.kim@bikecorporation.me', subject='\"ZENESIS\" 자전거 유통 협력 및 미팅 일정 제안', summary=\"김철수 상무는 바이크코퍼레이션에서 근무하며, 귀사의 신규 자전거 'ZENESIS'에 대한 상세한 브로슈어를 요청하고, 기술 사양, 배터리 성능, 디자인 정보를 필요로 합니다. 이를 통해 유통 전략과 마케팅 계획을 구체화하고자 합니다. 또한, 협력 가능성을 논의하기 위해 다음 주 화요일 오전 10시에 미팅을 제안합니다.\", date='1월 15일 오전 10시')"
      ]
     },
     "execution_count": 21,
     "metadata": {},
     "output_type": "execute_result"
    }
   ],
   "execution_count": 21
  },
  {
   "metadata": {},
   "cell_type": "markdown",
   "source": "### with_structured_output()",
   "id": "f84cf4d99a49262a"
  },
  {
   "metadata": {
    "ExecuteTime": {
     "end_time": "2024-09-20T14:32:58.119024Z",
     "start_time": "2024-09-20T14:32:56.755676Z"
    }
   },
   "cell_type": "code",
   "source": [
    "llm_with_structered = ChatOpenAI(\n",
    "    api_key=openai_api_key,\n",
    "    temperature=0, \n",
    "    model_name=\"gpt-4o\"\n",
    ").with_structured_output(EmailSummary)"
   ],
   "id": "d71dc8a8230d1548",
   "outputs": [],
   "execution_count": 22
  },
  {
   "metadata": {
    "ExecuteTime": {
     "end_time": "2024-09-20T14:33:43.823383Z",
     "start_time": "2024-09-20T14:33:40.880003Z"
    }
   },
   "cell_type": "code",
   "source": [
    "# invoke() 함수를 호출하여 결과를 출력\n",
    "answer = llm_with_structered.invoke(email_conversation)\n",
    "answer"
   ],
   "id": "3ce25d42289c8e9a",
   "outputs": [
    {
     "data": {
      "text/plain": [
       "EmailSummary(person='김철수', email='chulsoo.kim@bikecorporation.me', subject='\"ZENESIS\" 자전거 유통 협력 및 미팅 일정 제안', summary='바이크코퍼레이션의 김철수 상무가 테디인터내셔널의 이은채 대리에게 ZENESIS 자전거 모델에 대한 브로슈어 요청과 유통 협력 논의를 위한 미팅을 제안합니다. 미팅은 다음 주 화요일(1월 15일) 오전 10시에 제안되었습니다.', date='1월 15일 오전 10시')"
      ]
     },
     "execution_count": 23,
     "metadata": {},
     "output_type": "execute_result"
    }
   ],
   "execution_count": 23
  },
  {
   "metadata": {},
   "cell_type": "markdown",
   "source": "### CommaSeparatedListOutputParser",
   "id": "a468352a3234d83"
  },
  {
   "metadata": {
    "ExecuteTime": {
     "end_time": "2024-09-20T14:47:53.602701Z",
     "start_time": "2024-09-20T14:47:52.180813Z"
    }
   },
   "cell_type": "code",
   "source": [
    "from langchain_core.output_parsers import CommaSeparatedListOutputParser\n",
    "from langchain_core.prompts import PromptTemplate\n",
    "from langchain_openai import ChatOpenAI\n",
    "\n",
    "# 콤마로 구분된 리스트 출력 파서 \n",
    "output_parser = CommaSeparatedListOutputParser()\n",
    "\n",
    "# 출력 형식 지침 가져오기\n",
    "format_instructions = output_parser.get_format_instructions()\n",
    "\n",
    "prompt = PromptTemplate(\n",
    "    # 주제에 대한 다섯 가지를 나열하라는 템플릿\n",
    "    template=\"List five {subject}. \\n{format_instructions}\",\n",
    "    input_variables=[\"subject\"],    # 입력 변수로 'subjecft' 사용\n",
    "    # 부분 변수로 형식 지침 사용\n",
    "    partial_variables={\"format_instructions\": format_instructions},\n",
    ")\n",
    "\n",
    "# ChatOpenAI 모델 초기화\n",
    "model = ChatOpenAI(temperature=0, model=\"gpt-4o\")\n",
    "\n",
    "# 체인 생성\n",
    "chain = prompt | model | output_parser"
   ],
   "id": "618ed1d890099fd1",
   "outputs": [],
   "execution_count": 28
  },
  {
   "metadata": {
    "ExecuteTime": {
     "end_time": "2024-09-20T14:47:58.169769Z",
     "start_time": "2024-09-20T14:47:57.383154Z"
    }
   },
   "cell_type": "code",
   "source": "chain.invoke({\"subject\": \"대한민국 관광명소\"})",
   "id": "9b6624c5b9caa4c3",
   "outputs": [
    {
     "data": {
      "text/plain": [
       "['경복궁', '한라산', '부산 해운대', '경주 불국사', '서울 남산타워']"
      ]
     },
     "execution_count": 29,
     "metadata": {},
     "output_type": "execute_result"
    }
   ],
   "execution_count": 29
  },
  {
   "metadata": {
    "ExecuteTime": {
     "end_time": "2024-09-20T14:48:01.371027Z",
     "start_time": "2024-09-20T14:48:00.605352Z"
    }
   },
   "cell_type": "code",
   "source": [
    "for s in chain.stream({\"subject\": \"대한민국 관광명소\"}):\n",
    "    print(s)"
   ],
   "id": "8bb284bdff480f8f",
   "outputs": [
    {
     "name": "stdout",
     "output_type": "stream",
     "text": [
      "['경복궁']\n",
      "['한라산']\n",
      "['부산 해운대']\n",
      "['경주 불국사']\n",
      "['제주도 성산일출봉']\n"
     ]
    }
   ],
   "execution_count": 30
  },
  {
   "metadata": {},
   "cell_type": "markdown",
   "source": "### StructuredOutputParser",
   "id": "891efba868d3c354"
  },
  {
   "metadata": {
    "ExecuteTime": {
     "end_time": "2024-09-20T14:57:18.372534Z",
     "start_time": "2024-09-20T14:57:18.145309Z"
    }
   },
   "cell_type": "code",
   "source": [
    "# ResponseSchema를 사용하여 사용자의 질문에 대한 답변과 사용된 소스에 대한 설명을 포함하는 응답 스키마를 정의\n",
    "from langchain.output_parsers import ResponseSchema, StructuredOutputParser\n",
    "from langchain_core.prompts import PromptTemplate\n",
    "from langchain_openai import ChatOpenAI"
   ],
   "id": "8bd070723fb2f9f5",
   "outputs": [],
   "execution_count": 31
  },
  {
   "metadata": {
    "ExecuteTime": {
     "end_time": "2024-09-20T14:58:01.129963Z",
     "start_time": "2024-09-20T14:58:01.116854Z"
    }
   },
   "cell_type": "code",
   "source": [
    "# 사용자의 질문에 대한 답변\n",
    "response_schemas = [\n",
    "    ResponseSchema(name=\"answer\", description=\"사용자의 질문에 대한 답변\"),\n",
    "    ResponseSchema(\n",
    "        name=\"source\",\n",
    "        description=\"사용자의 질문에 답하기 위해 사용된 `출처`, `웹사이트주소` 이여야 합니다.\",\n",
    "    ),\n",
    "]\n",
    "# 응답 스키마를 기반으로 한 구조화된 출력 파서 초기화\n",
    "output_parser = StructuredOutputParser.from_response_schemas(response_schemas)"
   ],
   "id": "bd823ceceb85ecbf",
   "outputs": [],
   "execution_count": 32
  },
  {
   "metadata": {
    "ExecuteTime": {
     "end_time": "2024-09-20T14:59:39.926105Z",
     "start_time": "2024-09-20T14:59:37.420253Z"
    }
   },
   "cell_type": "code",
   "source": [
    "# 출력 형식 지시사항을 파싱합니다.\n",
    "format_instructions = output_parser.get_format_instructions()\n",
    "prompt = PromptTemplate(\n",
    "    # 사용자의 질문에 최대한 답변하도록 템플릿을 설정합니다.\n",
    "    template=\"answer the users question as best as possible.\\n{format_instructions}\\n{question}\",\n",
    "    # 입력 변수로 'question'을 사용합니다.\n",
    "    input_variables=[\"question\"],\n",
    "    # 부분 변수로 'format_instructions'을 사용합니다.\n",
    "    partial_variables={\"format_instructions\": format_instructions},\n",
    ")\n",
    "\n",
    "model = ChatOpenAI(temperature=0)  # ChatOpenAI 모델 초기화\n",
    "chain = prompt | model | output_parser  # 프롬프트, 모델, 출력 파서를 연결\n",
    "\n",
    "# 대한민국의 수도가 무엇인지 질문합니다.\n",
    "chain.invoke({\"question\": \"대한민국의 수도는 어디인가요?\"})\n"
   ],
   "id": "73654699f761330c",
   "outputs": [
    {
     "data": {
      "text/plain": [
       "{'answer': '서울', 'source': 'https://ko.wikipedia.org/wiki/%EC%84%9C%EC%9A%B8'}"
      ]
     },
     "execution_count": 33,
     "metadata": {},
     "output_type": "execute_result"
    }
   ],
   "execution_count": 33
  },
  {
   "metadata": {
    "ExecuteTime": {
     "end_time": "2024-09-20T15:02:34.557158Z",
     "start_time": "2024-09-20T15:02:32.457657Z"
    }
   },
   "cell_type": "code",
   "source": [
    "for s in chain.stream({\"question\": \"세종대왕의 업적은 무엇인가요?\"}):\n",
    "    # 스트리밍 출력\n",
    "    print(s)"
   ],
   "id": "87c765b14f0e4de5",
   "outputs": [
    {
     "name": "stdout",
     "output_type": "stream",
     "text": [
      "{'answer': '세종대왕은 한글을 창제하고 문화를 발전시키는 등 다양한 업적을 가지고 있습니다.', 'source': 'https://ko.wikipedia.org/wiki/%EC%84%B8%EC%A2%85%EB%8C%80%EC%99%95'}\n"
     ]
    }
   ],
   "execution_count": 34
  },
  {
   "metadata": {},
   "cell_type": "markdown",
   "source": "### JsonOutputParser",
   "id": "bd553b42d69013b5"
  },
  {
   "metadata": {
    "ExecuteTime": {
     "end_time": "2024-09-20T15:34:56.280660Z",
     "start_time": "2024-09-20T15:34:56.273508Z"
    }
   },
   "cell_type": "code",
   "source": [
    "from langchain_core.prompts import ChatPromptTemplate\n",
    "from langchain_core.output_parsers import JsonOutputParser\n",
    "from pydantic import BaseModel, Field\n",
    "from langchain_openai import ChatOpenAI"
   ],
   "id": "c66936f0897047af",
   "outputs": [],
   "execution_count": 40
  },
  {
   "metadata": {
    "ExecuteTime": {
     "end_time": "2024-09-20T15:35:01.448789Z",
     "start_time": "2024-09-20T15:35:00.203494Z"
    }
   },
   "cell_type": "code",
   "source": "model = ChatOpenAI(temperature=0, model_name=\"gpt-4o\")",
   "id": "62371fb4fe2ff18a",
   "outputs": [],
   "execution_count": 41
  },
  {
   "metadata": {
    "ExecuteTime": {
     "end_time": "2024-09-20T15:35:01.880935Z",
     "start_time": "2024-09-20T15:35:01.856958Z"
    }
   },
   "cell_type": "code",
   "source": [
    "# 원하는 데이터 구조를 정의합니다.\n",
    "class Topic(BaseModel):\n",
    "    description: str = Field(description=\"주제에 대한 간결한 설명\")\n",
    "    hashtags: str = Field(description=\"해시태그 형식의 키워드(2개 이상)\")"
   ],
   "id": "d0ddc60fef7eb7e6",
   "outputs": [],
   "execution_count": 42
  },
  {
   "metadata": {
    "ExecuteTime": {
     "end_time": "2024-09-20T15:35:04.822321Z",
     "start_time": "2024-09-20T15:35:03.236084Z"
    }
   },
   "cell_type": "code",
   "source": [
    "# 질의 작성\n",
    "question = \"지구 온난화의 심각성 대해 알려주세요.\"\n",
    "\n",
    "# 파서를 설정하고 프롬프트 템플릿에 지시사항을 주입합니다.\n",
    "parser = JsonOutputParser(pydantic_object=Topic)\n",
    "\n",
    "prompt = ChatPromptTemplate.from_messages(\n",
    "    [\n",
    "        (\"system\", \"당신은 친절한 AI 어시스턴트 입니다. 질문에 간결하게 답변하세요.\"),\n",
    "        (\"user\", \"#Format: {format_instructions}\\n\\n#Question: {question}\"),\n",
    "    ]\n",
    ")\n",
    "\n",
    "prompt = prompt.partial(format_instructions=parser.get_format_instructions())\n",
    "\n",
    "chain = prompt | model | parser  # 체인을 구성합니다.\n",
    "\n",
    "chain.invoke({\"question\": question})  # 체인을 호출하여 쿼리 실행\n"
   ],
   "id": "b1be4697f4642925",
   "outputs": [
    {
     "data": {
      "text/plain": [
       "{'description': '지구 온난화는 지구의 평균 기온이 지속적으로 상승하는 현상으로, 이는 주로 인간 활동에 의해 발생하는 온실가스 배출로 인해 발생합니다. 이로 인해 극지방의 빙하가 녹고, 해수면이 상승하며, 기후 패턴이 변화하고 있습니다. 이러한 변화는 생태계와 인간 사회에 심각한 영향을 미치고 있습니다.',\n",
       " 'hashtags': '#지구온난화 #기후변화 #온실가스'}"
      ]
     },
     "execution_count": 43,
     "metadata": {},
     "output_type": "execute_result"
    }
   ],
   "execution_count": 43
  },
  {
   "metadata": {
    "ExecuteTime": {
     "end_time": "2024-09-20T15:36:06.310378Z",
     "start_time": "2024-09-20T15:36:04.593854Z"
    }
   },
   "cell_type": "code",
   "source": [
    "# 질의 작성\n",
    "question = \"지구 온난화에 대해 알려주세요. 온난화에 대한 설명은 `description`에, 관련 키워드는 `hashtags`에 담아주세요.\"\n",
    "\n",
    "# JSON 출력 파서 초기화\n",
    "parser = JsonOutputParser()\n",
    "\n",
    "# 프롬프트 템플릿을 설정합니다.\n",
    "prompt = ChatPromptTemplate.from_messages(\n",
    "    [\n",
    "        (\"system\", \"당신은 친절한 AI 어시스턴트 입니다. 질문에 간결하게 답변하세요.\"),\n",
    "        (\"user\", \"#Format: {format_instructions}\\n\\n#Question: {question}\"),\n",
    "    ]\n",
    ")\n",
    "\n",
    "# 지시사항을 프롬프트에 주입합니다.\n",
    "prompt = prompt.partial(format_instructions=parser.get_format_instructions())\n",
    "\n",
    "# 프롬프트, 모델, 파서를 연결하는 체인 생성\n",
    "chain = prompt | model | parser\n",
    "\n",
    "# 체인을 호출하여 쿼리 실행\n",
    "response = chain.invoke({\"question\": question})\n",
    "\n",
    "# 출력을 확인합니다.\n",
    "print(response)\n"
   ],
   "id": "aaf947525cd1532e",
   "outputs": [
    {
     "name": "stdout",
     "output_type": "stream",
     "text": [
      "{'description': '지구 온난화는 대기 중 온실가스 농도의 증가로 인해 지구의 평균 기온이 상승하는 현상을 말합니다. 이는 주로 화석 연료의 연소, 산림 파괴, 산업 활동 등 인간 활동에 의해 발생합니다. 지구 온난화는 기후 변화, 해수면 상승, 생태계 파괴 등 다양한 환경 문제를 초래합니다.', 'hashtags': ['#지구온난화', '#기후변화', '#온실가스', '#환경문제', '#해수면상승']}\n"
     ]
    }
   ],
   "execution_count": 44
  },
  {
   "metadata": {},
   "cell_type": "markdown",
   "source": "### PandasDataFrameOutputParser",
   "id": "b06475b8a0970195"
  },
  {
   "metadata": {
    "ExecuteTime": {
     "end_time": "2024-09-20T15:38:21.794767Z",
     "start_time": "2024-09-20T15:38:20.576755Z"
    }
   },
   "cell_type": "code",
   "source": [
    "import pprint\n",
    "from typing import Any, Dict\n",
    "\n",
    "import pandas as pd\n",
    "from langchain.output_parsers import PandasDataFrameOutputParser\n",
    "from langchain_core.prompts import PromptTemplate\n",
    "from langchain_openai import ChatOpenAI"
   ],
   "id": "f37dd6f961bf392e",
   "outputs": [],
   "execution_count": 45
  },
  {
   "metadata": {
    "ExecuteTime": {
     "end_time": "2024-09-20T15:38:30.426564Z",
     "start_time": "2024-09-20T15:38:28.963078Z"
    }
   },
   "cell_type": "code",
   "source": [
    "# ChatOpenAI 모델 초기화 (gpt-3.5-turbo 모델 사용을 권장)\n",
    "model = ChatOpenAI(temperature=0, model_name=\"gpt-3.5-turbo\")"
   ],
   "id": "871c4fe6f8be3ac3",
   "outputs": [],
   "execution_count": 46
  },
  {
   "metadata": {
    "ExecuteTime": {
     "end_time": "2024-09-20T15:39:49.629895Z",
     "start_time": "2024-09-20T15:39:49.622511Z"
    }
   },
   "cell_type": "code",
   "source": [
    "# 출력 목적으로만 사용됩니다.\n",
    "def format_parser_output(parser_output: Dict[str, Any]) -> None:\n",
    "    # 파서 출력의 키들을 순회합니다.\n",
    "    for key in parser_output.keys():\n",
    "        # 각 키의 값을 딕셔너리로 변환합니다.\n",
    "        parser_output[key] = parser_output[key].to_dict()\n",
    "    # 예쁘게 출력합니다.\n",
    "    return pprint.PrettyPrinter(width=4, compact=True).pprint(parser_output)"
   ],
   "id": "82e6a74062790c6f",
   "outputs": [],
   "execution_count": 47
  },
  {
   "metadata": {
    "ExecuteTime": {
     "end_time": "2024-09-20T15:46:51.984474Z",
     "start_time": "2024-09-20T15:46:51.831443Z"
    }
   },
   "cell_type": "code",
   "source": [
    "df = pd.read_csv(\"./titanic.csv\")\n",
    "df.head()"
   ],
   "id": "e1bcc99044b27f00",
   "outputs": [
    {
     "data": {
      "text/plain": [
       "   PassengerId  Survived  Pclass  \\\n",
       "0          892         0       3   \n",
       "1          893         1       3   \n",
       "2          894         0       2   \n",
       "3          895         0       3   \n",
       "4          896         1       3   \n",
       "\n",
       "                                           Name     Sex   Age  SibSp  Parch  \\\n",
       "0                              Kelly, Mr. James    male  34.5      0      0   \n",
       "1              Wilkes, Mrs. James (Ellen Needs)  female  47.0      1      0   \n",
       "2                     Myles, Mr. Thomas Francis    male  62.0      0      0   \n",
       "3                              Wirz, Mr. Albert    male  27.0      0      0   \n",
       "4  Hirvonen, Mrs. Alexander (Helga E Lindqvist)  female  22.0      1      1   \n",
       "\n",
       "    Ticket     Fare Cabin Embarked  \n",
       "0   330911   7.8292   NaN        Q  \n",
       "1   363272   7.0000   NaN        S  \n",
       "2   240276   9.6875   NaN        Q  \n",
       "3   315154   8.6625   NaN        S  \n",
       "4  3101298  12.2875   NaN        S  "
      ],
      "text/html": [
       "<div>\n",
       "<style scoped>\n",
       "    .dataframe tbody tr th:only-of-type {\n",
       "        vertical-align: middle;\n",
       "    }\n",
       "\n",
       "    .dataframe tbody tr th {\n",
       "        vertical-align: top;\n",
       "    }\n",
       "\n",
       "    .dataframe thead th {\n",
       "        text-align: right;\n",
       "    }\n",
       "</style>\n",
       "<table border=\"1\" class=\"dataframe\">\n",
       "  <thead>\n",
       "    <tr style=\"text-align: right;\">\n",
       "      <th></th>\n",
       "      <th>PassengerId</th>\n",
       "      <th>Survived</th>\n",
       "      <th>Pclass</th>\n",
       "      <th>Name</th>\n",
       "      <th>Sex</th>\n",
       "      <th>Age</th>\n",
       "      <th>SibSp</th>\n",
       "      <th>Parch</th>\n",
       "      <th>Ticket</th>\n",
       "      <th>Fare</th>\n",
       "      <th>Cabin</th>\n",
       "      <th>Embarked</th>\n",
       "    </tr>\n",
       "  </thead>\n",
       "  <tbody>\n",
       "    <tr>\n",
       "      <th>0</th>\n",
       "      <td>892</td>\n",
       "      <td>0</td>\n",
       "      <td>3</td>\n",
       "      <td>Kelly, Mr. James</td>\n",
       "      <td>male</td>\n",
       "      <td>34.5</td>\n",
       "      <td>0</td>\n",
       "      <td>0</td>\n",
       "      <td>330911</td>\n",
       "      <td>7.8292</td>\n",
       "      <td>NaN</td>\n",
       "      <td>Q</td>\n",
       "    </tr>\n",
       "    <tr>\n",
       "      <th>1</th>\n",
       "      <td>893</td>\n",
       "      <td>1</td>\n",
       "      <td>3</td>\n",
       "      <td>Wilkes, Mrs. James (Ellen Needs)</td>\n",
       "      <td>female</td>\n",
       "      <td>47.0</td>\n",
       "      <td>1</td>\n",
       "      <td>0</td>\n",
       "      <td>363272</td>\n",
       "      <td>7.0000</td>\n",
       "      <td>NaN</td>\n",
       "      <td>S</td>\n",
       "    </tr>\n",
       "    <tr>\n",
       "      <th>2</th>\n",
       "      <td>894</td>\n",
       "      <td>0</td>\n",
       "      <td>2</td>\n",
       "      <td>Myles, Mr. Thomas Francis</td>\n",
       "      <td>male</td>\n",
       "      <td>62.0</td>\n",
       "      <td>0</td>\n",
       "      <td>0</td>\n",
       "      <td>240276</td>\n",
       "      <td>9.6875</td>\n",
       "      <td>NaN</td>\n",
       "      <td>Q</td>\n",
       "    </tr>\n",
       "    <tr>\n",
       "      <th>3</th>\n",
       "      <td>895</td>\n",
       "      <td>0</td>\n",
       "      <td>3</td>\n",
       "      <td>Wirz, Mr. Albert</td>\n",
       "      <td>male</td>\n",
       "      <td>27.0</td>\n",
       "      <td>0</td>\n",
       "      <td>0</td>\n",
       "      <td>315154</td>\n",
       "      <td>8.6625</td>\n",
       "      <td>NaN</td>\n",
       "      <td>S</td>\n",
       "    </tr>\n",
       "    <tr>\n",
       "      <th>4</th>\n",
       "      <td>896</td>\n",
       "      <td>1</td>\n",
       "      <td>3</td>\n",
       "      <td>Hirvonen, Mrs. Alexander (Helga E Lindqvist)</td>\n",
       "      <td>female</td>\n",
       "      <td>22.0</td>\n",
       "      <td>1</td>\n",
       "      <td>1</td>\n",
       "      <td>3101298</td>\n",
       "      <td>12.2875</td>\n",
       "      <td>NaN</td>\n",
       "      <td>S</td>\n",
       "    </tr>\n",
       "  </tbody>\n",
       "</table>\n",
       "</div>"
      ]
     },
     "execution_count": 48,
     "metadata": {},
     "output_type": "execute_result"
    }
   ],
   "execution_count": 48
  },
  {
   "metadata": {
    "ExecuteTime": {
     "end_time": "2024-09-20T15:47:43.664872Z",
     "start_time": "2024-09-20T15:47:43.655553Z"
    }
   },
   "cell_type": "code",
   "source": [
    "# 파서를 설정하고 프롬프트 템플릿에 지시사항을 주입합니다.\n",
    "parser = PandasDataFrameOutputParser(dataframe=df)\n",
    "\n",
    "# 파서의 지시사항을 출력합니다.\n",
    "print(parser.get_format_instructions())"
   ],
   "id": "8df7ef56bfe6a7aa",
   "outputs": [
    {
     "name": "stdout",
     "output_type": "stream",
     "text": [
      "The output should be formatted as a string as the operation, followed by a colon, followed by the column or row to be queried on, followed by optional array parameters.\n",
      "1. The column names are limited to the possible columns below.\n",
      "2. Arrays must either be a comma-separated list of numbers formatted as [1,3,5], or it must be in range of numbers formatted as [0..4].\n",
      "3. Remember that arrays are optional and not necessarily required.\n",
      "4. If the column is not in the possible columns or the operation is not a valid Pandas DataFrame operation, return why it is invalid as a sentence starting with either \"Invalid column\" or \"Invalid operation\".\n",
      "\n",
      "As an example, for the formats:\n",
      "1. String \"column:num_legs\" is a well-formatted instance which gets the column num_legs, where num_legs is a possible column.\n",
      "2. String \"row:1\" is a well-formatted instance which gets row 1.\n",
      "3. String \"column:num_legs[1,2]\" is a well-formatted instance which gets the column num_legs for rows 1 and 2, where num_legs is a possible column.\n",
      "4. String \"row:1[num_legs]\" is a well-formatted instance which gets row 1, but for just column num_legs, where num_legs is a possible column.\n",
      "5. String \"mean:num_legs[1..3]\" is a well-formatted instance which takes the mean of num_legs from rows 1 to 3, where num_legs is a possible column and mean is a valid Pandas DataFrame operation.\n",
      "6. String \"do_something:num_legs\" is a badly-formatted instance, where do_something is not a valid Pandas DataFrame operation.\n",
      "7. String \"mean:invalid_col\" is a badly-formatted instance, where invalid_col is not a possible column.\n",
      "\n",
      "Here are the possible columns:\n",
      "```\n",
      "PassengerId, Survived, Pclass, Name, Sex, Age, SibSp, Parch, Ticket, Fare, Cabin, Embarked\n",
      "```\n",
      "\n"
     ]
    }
   ],
   "execution_count": 49
  },
  {
   "metadata": {
    "ExecuteTime": {
     "end_time": "2024-09-20T15:56:22.640379Z",
     "start_time": "2024-09-20T15:56:22.039101Z"
    }
   },
   "cell_type": "code",
   "source": [
    "# 열 작업 예시입니다.\n",
    "df_query = \"Age column 을 조회해 주세요.\"\n",
    "\n",
    "\n",
    "# 프롬프트 템플릿을 설정합니다.\n",
    "prompt = PromptTemplate(\n",
    "    template=\"Answer the user query.\\n{format_instructions}\\n{query}\\n\",\n",
    "    input_variables=[\"query\"],  # 입력 변수 설정\n",
    "    partial_variables={\n",
    "        \"format_instructions\": parser.get_format_instructions()\n",
    "    },  # 부분 변수 설정\n",
    ")\n",
    "\n",
    "# 체인 생성\n",
    "chain = prompt | model | parser\n",
    "\n",
    "# 체인 실행\n",
    "parser_output = chain.invoke({\"query\": df_query})\n",
    "\n",
    "# 출력\n",
    "format_parser_output(parser_output)"
   ],
   "id": "9bba58b4a93223a1",
   "outputs": [
    {
     "name": "stdout",
     "output_type": "stream",
     "text": [
      "{'Age': {0: 34.5,\n",
      "         1: 47.0,\n",
      "         2: 62.0,\n",
      "         3: 27.0,\n",
      "         4: 22.0,\n",
      "         5: 14.0,\n",
      "         6: 30.0,\n",
      "         7: 26.0,\n",
      "         8: 18.0,\n",
      "         9: 21.0,\n",
      "         10: nan,\n",
      "         11: 46.0,\n",
      "         12: 23.0,\n",
      "         13: 63.0,\n",
      "         14: 47.0,\n",
      "         15: 24.0,\n",
      "         16: 35.0,\n",
      "         17: 21.0,\n",
      "         18: 27.0,\n",
      "         19: 45.0,\n",
      "         20: 55.0,\n",
      "         21: 9.0,\n",
      "         22: nan,\n",
      "         23: 21.0,\n",
      "         24: 48.0,\n",
      "         25: 50.0,\n",
      "         26: 22.0,\n",
      "         27: 22.5,\n",
      "         28: 41.0,\n",
      "         29: nan,\n",
      "         30: 50.0,\n",
      "         31: 24.0,\n",
      "         32: 33.0,\n",
      "         33: nan,\n",
      "         34: 30.0,\n",
      "         35: 18.5,\n",
      "         36: nan,\n",
      "         37: 21.0,\n",
      "         38: 25.0,\n",
      "         39: nan,\n",
      "         40: 39.0,\n",
      "         41: nan,\n",
      "         42: 41.0,\n",
      "         43: 30.0,\n",
      "         44: 45.0,\n",
      "         45: 25.0,\n",
      "         46: 45.0,\n",
      "         47: nan,\n",
      "         48: 60.0,\n",
      "         49: 36.0,\n",
      "         50: 24.0,\n",
      "         51: 27.0,\n",
      "         52: 20.0,\n",
      "         53: 28.0,\n",
      "         54: nan,\n",
      "         55: 10.0,\n",
      "         56: 35.0,\n",
      "         57: 25.0,\n",
      "         58: nan,\n",
      "         59: 36.0,\n",
      "         60: 17.0,\n",
      "         61: 32.0,\n",
      "         62: 18.0,\n",
      "         63: 22.0,\n",
      "         64: 13.0,\n",
      "         65: nan,\n",
      "         66: 18.0,\n",
      "         67: 47.0,\n",
      "         68: 31.0,\n",
      "         69: 60.0,\n",
      "         70: 24.0,\n",
      "         71: 21.0,\n",
      "         72: 29.0,\n",
      "         73: 28.5,\n",
      "         74: 35.0,\n",
      "         75: 32.5,\n",
      "         76: nan,\n",
      "         77: 55.0,\n",
      "         78: 30.0,\n",
      "         79: 24.0,\n",
      "         80: 6.0,\n",
      "         81: 67.0,\n",
      "         82: 49.0,\n",
      "         83: nan,\n",
      "         84: nan,\n",
      "         85: nan,\n",
      "         86: 27.0,\n",
      "         87: 18.0,\n",
      "         88: nan,\n",
      "         89: 2.0,\n",
      "         90: 22.0,\n",
      "         91: nan,\n",
      "         92: 27.0,\n",
      "         93: nan,\n",
      "         94: 25.0,\n",
      "         95: 25.0,\n",
      "         96: 76.0,\n",
      "         97: 29.0,\n",
      "         98: 20.0,\n",
      "         99: 33.0,\n",
      "         100: 43.0,\n",
      "         101: 27.0,\n",
      "         102: nan,\n",
      "         103: 26.0,\n",
      "         104: 16.0,\n",
      "         105: 28.0,\n",
      "         106: 21.0,\n",
      "         107: nan,\n",
      "         108: nan,\n",
      "         109: 18.5,\n",
      "         110: 41.0,\n",
      "         111: nan,\n",
      "         112: 36.0,\n",
      "         113: 18.5,\n",
      "         114: 63.0,\n",
      "         115: 18.0,\n",
      "         116: nan,\n",
      "         117: 1.0,\n",
      "         118: 36.0,\n",
      "         119: 29.0,\n",
      "         120: 12.0,\n",
      "         121: nan,\n",
      "         122: 35.0,\n",
      "         123: 28.0,\n",
      "         124: nan,\n",
      "         125: 17.0,\n",
      "         126: 22.0,\n",
      "         127: nan,\n",
      "         128: 42.0,\n",
      "         129: 24.0,\n",
      "         130: 32.0,\n",
      "         131: 53.0,\n",
      "         132: nan,\n",
      "         133: nan,\n",
      "         134: 43.0,\n",
      "         135: 24.0,\n",
      "         136: 26.5,\n",
      "         137: 26.0,\n",
      "         138: 23.0,\n",
      "         139: 40.0,\n",
      "         140: 10.0,\n",
      "         141: 33.0,\n",
      "         142: 61.0,\n",
      "         143: 28.0,\n",
      "         144: 42.0,\n",
      "         145: 31.0,\n",
      "         146: nan,\n",
      "         147: 22.0,\n",
      "         148: nan,\n",
      "         149: 30.0,\n",
      "         150: 23.0,\n",
      "         151: nan,\n",
      "         152: 60.5,\n",
      "         153: 36.0,\n",
      "         154: 13.0,\n",
      "         155: 24.0,\n",
      "         156: 29.0,\n",
      "         157: 23.0,\n",
      "         158: 42.0,\n",
      "         159: 26.0,\n",
      "         160: nan,\n",
      "         161: 7.0,\n",
      "         162: 26.0,\n",
      "         163: nan,\n",
      "         164: 41.0,\n",
      "         165: 26.0,\n",
      "         166: 48.0,\n",
      "         167: 18.0,\n",
      "         168: nan,\n",
      "         169: 22.0,\n",
      "         170: nan,\n",
      "         171: 27.0,\n",
      "         172: 23.0,\n",
      "         173: nan,\n",
      "         174: 40.0,\n",
      "         175: 15.0,\n",
      "         176: 20.0,\n",
      "         177: 54.0,\n",
      "         178: 36.0,\n",
      "         179: 64.0,\n",
      "         180: 30.0,\n",
      "         181: 37.0,\n",
      "         182: 18.0,\n",
      "         183: nan,\n",
      "         184: 27.0,\n",
      "         185: 40.0,\n",
      "         186: 21.0,\n",
      "         187: 17.0,\n",
      "         188: nan,\n",
      "         189: 40.0,\n",
      "         190: 34.0,\n",
      "         191: nan,\n",
      "         192: 11.5,\n",
      "         193: 61.0,\n",
      "         194: 8.0,\n",
      "         195: 33.0,\n",
      "         196: 6.0,\n",
      "         197: 18.0,\n",
      "         198: 23.0,\n",
      "         199: nan,\n",
      "         200: nan,\n",
      "         201: 0.33,\n",
      "         202: 47.0,\n",
      "         203: 8.0,\n",
      "         204: 25.0,\n",
      "         205: nan,\n",
      "         206: 35.0,\n",
      "         207: 24.0,\n",
      "         208: 33.0,\n",
      "         209: 25.0,\n",
      "         210: 32.0,\n",
      "         211: nan,\n",
      "         212: 17.0,\n",
      "         213: 60.0,\n",
      "         214: 38.0,\n",
      "         215: 42.0,\n",
      "         216: nan,\n",
      "         217: 57.0,\n",
      "         218: 50.0,\n",
      "         219: nan,\n",
      "         220: 30.0,\n",
      "         221: 21.0,\n",
      "         222: 22.0,\n",
      "         223: 21.0,\n",
      "         224: 53.0,\n",
      "         225: nan,\n",
      "         226: 23.0,\n",
      "         227: nan,\n",
      "         228: 40.5,\n",
      "         229: 36.0,\n",
      "         230: 14.0,\n",
      "         231: 21.0,\n",
      "         232: 21.0,\n",
      "         233: nan,\n",
      "         234: 39.0,\n",
      "         235: 20.0,\n",
      "         236: 64.0,\n",
      "         237: 20.0,\n",
      "         238: 18.0,\n",
      "         239: 48.0,\n",
      "         240: 55.0,\n",
      "         241: 45.0,\n",
      "         242: 45.0,\n",
      "         243: nan,\n",
      "         244: nan,\n",
      "         245: 41.0,\n",
      "         246: 22.0,\n",
      "         247: 42.0,\n",
      "         248: 29.0,\n",
      "         249: nan,\n",
      "         250: 0.92,\n",
      "         251: 20.0,\n",
      "         252: 27.0,\n",
      "         253: 24.0,\n",
      "         254: 32.5,\n",
      "         255: nan,\n",
      "         256: nan,\n",
      "         257: 28.0,\n",
      "         258: 19.0,\n",
      "         259: 21.0,\n",
      "         260: 36.5,\n",
      "         261: 21.0,\n",
      "         262: 29.0,\n",
      "         263: 1.0,\n",
      "         264: 30.0,\n",
      "         265: nan,\n",
      "         266: nan,\n",
      "         267: nan,\n",
      "         268: nan,\n",
      "         269: 17.0,\n",
      "         270: 46.0,\n",
      "         271: nan,\n",
      "         272: 26.0,\n",
      "         273: nan,\n",
      "         274: nan,\n",
      "         275: 20.0,\n",
      "         276: 28.0,\n",
      "         277: 40.0,\n",
      "         278: 30.0,\n",
      "         279: 22.0,\n",
      "         280: 23.0,\n",
      "         281: 0.75,\n",
      "         282: nan,\n",
      "         283: 9.0,\n",
      "         284: 2.0,\n",
      "         285: 36.0,\n",
      "         286: nan,\n",
      "         287: 24.0,\n",
      "         288: nan,\n",
      "         289: nan,\n",
      "         290: nan,\n",
      "         291: 30.0,\n",
      "         292: nan,\n",
      "         293: 53.0,\n",
      "         294: 36.0,\n",
      "         295: 26.0,\n",
      "         296: 1.0,\n",
      "         297: nan,\n",
      "         298: 30.0,\n",
      "         299: 29.0,\n",
      "         300: 32.0,\n",
      "         301: nan,\n",
      "         302: 43.0,\n",
      "         303: 24.0,\n",
      "         304: nan,\n",
      "         305: 64.0,\n",
      "         306: 30.0,\n",
      "         307: 0.83,\n",
      "         308: 55.0,\n",
      "         309: 45.0,\n",
      "         310: 18.0,\n",
      "         311: 22.0,\n",
      "         312: nan,\n",
      "         313: 37.0,\n",
      "         314: 55.0,\n",
      "         315: 17.0,\n",
      "         316: 57.0,\n",
      "         317: 19.0,\n",
      "         318: 27.0,\n",
      "         319: 22.0,\n",
      "         320: 26.0,\n",
      "         321: 25.0,\n",
      "         322: 26.0,\n",
      "         323: 33.0,\n",
      "         324: 39.0,\n",
      "         325: 23.0,\n",
      "         326: 12.0,\n",
      "         327: 46.0,\n",
      "         328: 29.0,\n",
      "         329: 21.0,\n",
      "         330: 48.0,\n",
      "         331: 39.0,\n",
      "         332: nan,\n",
      "         333: 19.0,\n",
      "         334: 27.0,\n",
      "         335: 30.0,\n",
      "         336: 32.0,\n",
      "         337: 39.0,\n",
      "         338: 25.0,\n",
      "         339: nan,\n",
      "         340: 18.0,\n",
      "         341: 32.0,\n",
      "         342: nan,\n",
      "         343: 58.0,\n",
      "         344: nan,\n",
      "         345: 16.0,\n",
      "         346: 26.0,\n",
      "         347: 38.0,\n",
      "         348: 24.0,\n",
      "         349: 31.0,\n",
      "         350: 45.0,\n",
      "         351: 25.0,\n",
      "         352: 18.0,\n",
      "         353: 49.0,\n",
      "         354: 0.17,\n",
      "         355: 50.0,\n",
      "         356: 59.0,\n",
      "         357: nan,\n",
      "         358: nan,\n",
      "         359: 30.0,\n",
      "         360: 14.5,\n",
      "         361: 24.0,\n",
      "         362: 31.0,\n",
      "         363: 27.0,\n",
      "         364: 25.0,\n",
      "         365: nan,\n",
      "         366: nan,\n",
      "         367: 22.0,\n",
      "         368: 45.0,\n",
      "         369: 29.0,\n",
      "         370: 21.0,\n",
      "         371: 31.0,\n",
      "         372: 49.0,\n",
      "         373: 44.0,\n",
      "         374: 54.0,\n",
      "         375: 45.0,\n",
      "         376: 22.0,\n",
      "         377: 21.0,\n",
      "         378: 55.0,\n",
      "         379: 5.0,\n",
      "         380: nan,\n",
      "         381: 26.0,\n",
      "         382: nan,\n",
      "         383: 19.0,\n",
      "         384: nan,\n",
      "         385: 24.0,\n",
      "         386: 24.0,\n",
      "         387: 57.0,\n",
      "         388: 21.0,\n",
      "         389: 6.0,\n",
      "         390: 23.0,\n",
      "         391: 51.0,\n",
      "         392: 13.0,\n",
      "         393: 47.0,\n",
      "         394: 29.0,\n",
      "         395: 18.0,\n",
      "         396: 24.0,\n",
      "         397: 48.0,\n",
      "         398: 22.0,\n",
      "         399: 31.0,\n",
      "         400: 30.0,\n",
      "         401: 38.0,\n",
      "         402: 22.0,\n",
      "         403: 17.0,\n",
      "         404: 43.0,\n",
      "         405: 20.0,\n",
      "         406: 23.0,\n",
      "         407: 50.0,\n",
      "         408: nan,\n",
      "         409: 3.0,\n",
      "         410: nan,\n",
      "         411: 37.0,\n",
      "         412: 28.0,\n",
      "         413: nan,\n",
      "         414: 39.0,\n",
      "         415: 38.5,\n",
      "         416: nan,\n",
      "         417: nan}}\n"
     ]
    }
   ],
   "execution_count": 58
  },
  {
   "metadata": {
    "ExecuteTime": {
     "end_time": "2024-09-20T15:49:55.317878Z",
     "start_time": "2024-09-20T15:49:54.781009Z"
    }
   },
   "cell_type": "code",
   "source": [
    "# 행 조회 예시입니다.\n",
    "df_query = \"Retrieve the first row.\"\n",
    "\n",
    "# 체인 실행\n",
    "parser_output = chain.invoke({\"query\": df_query})\n",
    "\n",
    "# 결과 출력\n",
    "format_parser_output(parser_output)"
   ],
   "id": "3838bbc45223261",
   "outputs": [
    {
     "name": "stdout",
     "output_type": "stream",
     "text": [
      "{'0': {'Age': 34.5,\n",
      "       'Cabin': nan,\n",
      "       'Embarked': 'Q',\n",
      "       'Fare': 7.8292,\n",
      "       'Name': 'Kelly, '\n",
      "               'Mr. '\n",
      "               'James',\n",
      "       'Parch': 0,\n",
      "       'PassengerId': 892,\n",
      "       'Pclass': 3,\n",
      "       'Sex': 'male',\n",
      "       'SibSp': 0,\n",
      "       'Survived': 0,\n",
      "       'Ticket': '330911'}}\n"
     ]
    }
   ],
   "execution_count": 51
  },
  {
   "metadata": {
    "ExecuteTime": {
     "end_time": "2024-09-20T15:50:12.993990Z",
     "start_time": "2024-09-20T15:50:12.980665Z"
    }
   },
   "cell_type": "code",
   "source": [
    "# row 0 ~ 4의 평균 나이를 구합니다.\n",
    "df[\"Age\"].head().mean()"
   ],
   "id": "35aa9013bf6b646d",
   "outputs": [
    {
     "data": {
      "text/plain": [
       "38.5"
      ]
     },
     "execution_count": 52,
     "metadata": {},
     "output_type": "execute_result"
    }
   ],
   "execution_count": 52
  },
  {
   "metadata": {
    "ExecuteTime": {
     "end_time": "2024-09-20T15:50:25.568636Z",
     "start_time": "2024-09-20T15:50:24.943670Z"
    }
   },
   "cell_type": "code",
   "source": [
    "# 임의의 Pandas DataFrame 작업 예시, 행의 수를 제한합니다.\n",
    "df_query = \"Retrieve the average of the Ages from row 0 to 4.\"\n",
    "\n",
    "# 체인 실행\n",
    "parser_output = chain.invoke({\"query\": df_query})\n",
    "\n",
    "# 결과 출력\n",
    "print(parser_output)"
   ],
   "id": "5922c7031086d2d5",
   "outputs": [
    {
     "name": "stdout",
     "output_type": "stream",
     "text": [
      "{'mean': 38.5}\n"
     ]
    }
   ],
   "execution_count": 53
  },
  {
   "metadata": {
    "ExecuteTime": {
     "end_time": "2024-09-20T15:50:58.183183Z",
     "start_time": "2024-09-20T15:50:57.640610Z"
    }
   },
   "cell_type": "code",
   "source": [
    "# 잘못 형식화된 쿼리의 예시입니다.\n",
    "df_query = \"Calculate average `Fare` rate.\"\n",
    "\n",
    "# 체인 실행\n",
    "parser_output = chain.invoke({\"query\": df_query})\n",
    "\n",
    "# 결과 출력\n",
    "print(parser_output)"
   ],
   "id": "8ddc711c7cae07e6",
   "outputs": [
    {
     "name": "stdout",
     "output_type": "stream",
     "text": [
      "{'mean': 35.627188489208635}\n"
     ]
    }
   ],
   "execution_count": 54
  },
  {
   "metadata": {
    "ExecuteTime": {
     "end_time": "2024-09-20T15:51:26.064246Z",
     "start_time": "2024-09-20T15:51:26.055412Z"
    }
   },
   "cell_type": "code",
   "source": [
    "# 결과 검증\n",
    "df[\"Fare\"].mean()"
   ],
   "id": "6a885de99051fdd2",
   "outputs": [
    {
     "data": {
      "text/plain": [
       "35.627188489208635"
      ]
     },
     "execution_count": 55,
     "metadata": {},
     "output_type": "execute_result"
    }
   ],
   "execution_count": 55
  },
  {
   "metadata": {},
   "cell_type": "markdown",
   "source": "### DatetimeOutputParser",
   "id": "e1b3a692b1f1af26"
  },
  {
   "metadata": {
    "ExecuteTime": {
     "end_time": "2024-09-20T15:58:26.199763Z",
     "start_time": "2024-09-20T15:58:26.149202Z"
    }
   },
   "cell_type": "code",
   "source": [
    "from langchain.output_parsers import DatetimeOutputParser\n",
    "from langchain.prompts import PromptTemplate\n",
    "from langchain_openai import ChatOpenAI\n",
    "\n",
    "# 날짜 및 시간 출력 파서\n",
    "output_parser = DatetimeOutputParser()\n",
    "output_parser.format = \"%Y-%m-%d\"\n",
    "\n",
    "# 사용자 질문에 대한 답변 템플릿\n",
    "template = \"\"\"Answer the users question:\\n\\n#Format Instructions: \\n{format_instructions}\\n\\n#Question: \\n{question}\\n\\n#Answer:\"\"\"\n",
    "\n",
    "prompt = PromptTemplate.from_template(\n",
    "    template,\n",
    "    partial_variables={\n",
    "        \"format_instructions\": output_parser.get_format_instructions()\n",
    "    },  # 지침을 템플릿에 적용\n",
    ")\n",
    "\n",
    "# 프롬프트 내용을 출력\n",
    "prompt"
   ],
   "id": "5872c3b741b78e17",
   "outputs": [
    {
     "data": {
      "text/plain": [
       "PromptTemplate(input_variables=['question'], input_types={}, partial_variables={'format_instructions': \"Write a datetime string that matches the following pattern: '%Y-%m-%d'.\\n\\nExamples: 0066-04-21, 0448-01-03, 1176-04-06\\n\\nReturn ONLY this string, no other words!\"}, template='Answer the users question:\\n\\n#Format Instructions: \\n{format_instructions}\\n\\n#Question: \\n{question}\\n\\n#Answer:')"
      ]
     },
     "execution_count": 59,
     "metadata": {},
     "output_type": "execute_result"
    }
   ],
   "execution_count": 59
  },
  {
   "metadata": {
    "ExecuteTime": {
     "end_time": "2024-09-20T15:58:53.988010Z",
     "start_time": "2024-09-20T15:58:51.989375Z"
    }
   },
   "cell_type": "code",
   "source": [
    "# Chain 을 생성합니다.\n",
    "chain = prompt | ChatOpenAI() | output_parser\n",
    "\n",
    "# 체인을 호출하여 질문에 대한 답변을 받습니다.\n",
    "output = chain.invoke({\"question\": \"Google 이 창업한 연도는?\"})\n"
   ],
   "id": "1d0b590cc0e19dda",
   "outputs": [],
   "execution_count": 60
  },
  {
   "metadata": {
    "ExecuteTime": {
     "end_time": "2024-09-20T15:59:01.084500Z",
     "start_time": "2024-09-20T15:59:01.068999Z"
    }
   },
   "cell_type": "code",
   "source": [
    "# 결과를 문자열로 변환\n",
    "output.strftime(\"%Y-%m-%d\")"
   ],
   "id": "a0081a9616018058",
   "outputs": [
    {
     "data": {
      "text/plain": [
       "'1998-09-04'"
      ]
     },
     "execution_count": 61,
     "metadata": {},
     "output_type": "execute_result"
    }
   ],
   "execution_count": 61
  },
  {
   "metadata": {},
   "cell_type": "markdown",
   "source": "### EnumOutputParser",
   "id": "bd61160126ca582d"
  },
  {
   "metadata": {
    "ExecuteTime": {
     "end_time": "2024-09-20T16:00:48.251779Z",
     "start_time": "2024-09-20T16:00:48.224845Z"
    }
   },
   "cell_type": "code",
   "source": "from langchain.output_parsers.enum import EnumOutputParser",
   "id": "2f9f24efe278de06",
   "outputs": [],
   "execution_count": 62
  },
  {
   "metadata": {
    "ExecuteTime": {
     "end_time": "2024-09-20T16:01:55.250908Z",
     "start_time": "2024-09-20T16:01:55.241799Z"
    }
   },
   "cell_type": "code",
   "source": [
    "# enum 모듈을 사용하여 Colors 클래스를 정의\n",
    "from enum import Enum\n",
    "\n",
    "# Enum을 상속받으며, RED, GREEN, BLUE 세가지 색상을 가짐\n",
    "class Colors(Enum):\n",
    "    RED = \"빨간색\"\n",
    "    GREEN = \"초록색\"\n",
    "    BLUE = \"파란색\""
   ],
   "id": "f6981d6ea8601de",
   "outputs": [],
   "execution_count": 63
  },
  {
   "metadata": {
    "ExecuteTime": {
     "end_time": "2024-09-20T16:02:03.052120Z",
     "start_time": "2024-09-20T16:02:03.038741Z"
    }
   },
   "cell_type": "code",
   "source": [
    "# EnumOutputParser 인스턴스 생성\n",
    "parser = EnumOutputParser(enum=Colors)"
   ],
   "id": "5ae09e93f4738912",
   "outputs": [],
   "execution_count": 64
  },
  {
   "metadata": {
    "ExecuteTime": {
     "end_time": "2024-09-20T16:02:45.658228Z",
     "start_time": "2024-09-20T16:02:44.048322Z"
    }
   },
   "cell_type": "code",
   "source": [
    "from langchain_core.prompts import PromptTemplate\n",
    "from langchain_openai import ChatOpenAI\n",
    "\n",
    "# 프롬프트 템플릿을 생성합니다.\n",
    "prompt = PromptTemplate.from_template(\n",
    "    \"\"\"다음의 물체는 어떤 색깔인가요?\n",
    "\n",
    "Object: {object}\n",
    "\n",
    "Instructions: {instructions}\"\"\"\n",
    "    # 파서에서 지시사항 형식을 가져와 부분적으로 적용합니다.\n",
    ").partial(instructions=parser.get_format_instructions())\n",
    "# 프롬프트와 ChatOpenAI, 파서를 연결합니다.\n",
    "chain = prompt | ChatOpenAI() | parser\n"
   ],
   "id": "c3b66895bd18397c",
   "outputs": [],
   "execution_count": 65
  },
  {
   "metadata": {
    "ExecuteTime": {
     "end_time": "2024-09-21T02:20:47.908848Z",
     "start_time": "2024-09-21T02:20:47.181203Z"
    }
   },
   "cell_type": "code",
   "source": [
    "response = chain.invoke({\"object\": \"하늘\"})  # \"하늘\" 에 대한 체인 호출 실행\n",
    "print(response)"
   ],
   "id": "867a6ad9abdac98f",
   "outputs": [
    {
     "name": "stdout",
     "output_type": "stream",
     "text": [
      "Colors.BLUE\n"
     ]
    }
   ],
   "execution_count": 67
  },
  {
   "metadata": {},
   "cell_type": "markdown",
   "source": "### OutputFixingParser",
   "id": "ad6cf394b62ee1d8"
  },
  {
   "metadata": {
    "ExecuteTime": {
     "end_time": "2024-09-21T05:40:57.387337Z",
     "start_time": "2024-09-21T05:40:57.266810Z"
    }
   },
   "cell_type": "code",
   "source": [
    "from langchain_openai import ChatOpenAI\n",
    "from langchain.output_parsers import PydanticOutputParser\n",
    "from langchain_core.pydantic_v1 import BaseModel, Field\n",
    "from typing import List\n",
    "\n",
    "\n",
    "class Actor(BaseModel):\n",
    "    name: str = Field(description=\"name of an actor\")\n",
    "    film_names: List[str] = Field(\n",
    "        description=\"list of names of films they starred in\")\n",
    "\n",
    "\n",
    "actor_query = \"Generate the filmography for a random actor.\"\n",
    "\n",
    "parser = PydanticOutputParser(pydantic_object=Actor)"
   ],
   "id": "5dd2ae86eefc17f7",
   "outputs": [],
   "execution_count": 68
  },
  {
   "metadata": {
    "ExecuteTime": {
     "end_time": "2024-09-21T05:42:01.552156Z",
     "start_time": "2024-09-21T05:42:00.662325Z"
    }
   },
   "cell_type": "code",
   "source": [
    "# 잘못된 형식을 일부러 입력\n",
    "misformatted = \"{'name': 'Tom Hanks', 'film_names': ['Forrest Gump']}\"\n",
    "\n",
    "# 잘못된 형식으로 입력된 데이터를 파싱하려고 시도\n",
    "parser.parse(misformatted)\n",
    "\n",
    "# 오류 출력"
   ],
   "id": "df5a14f56f3822cc",
   "outputs": [
    {
     "ename": "OutputParserException",
     "evalue": "Invalid json output: {'name': 'Tom Hanks', 'film_names': ['Forrest Gump']}",
     "output_type": "error",
     "traceback": [
      "\u001B[1;31m---------------------------------------------------------------------------\u001B[0m",
      "\u001B[1;31mJSONDecodeError\u001B[0m                           Traceback (most recent call last)",
      "File \u001B[1;32m~\\anaconda3\\envs\\AI\\Lib\\site-packages\\langchain_core\\output_parsers\\json.py:86\u001B[0m, in \u001B[0;36mJsonOutputParser.parse_result\u001B[1;34m(self, result, partial)\u001B[0m\n\u001B[0;32m     85\u001B[0m \u001B[38;5;28;01mtry\u001B[39;00m:\n\u001B[1;32m---> 86\u001B[0m     \u001B[38;5;28;01mreturn\u001B[39;00m parse_json_markdown(text)\n\u001B[0;32m     87\u001B[0m \u001B[38;5;28;01mexcept\u001B[39;00m JSONDecodeError \u001B[38;5;28;01mas\u001B[39;00m e:\n",
      "File \u001B[1;32m~\\anaconda3\\envs\\AI\\Lib\\site-packages\\langchain_core\\utils\\json.py:147\u001B[0m, in \u001B[0;36mparse_json_markdown\u001B[1;34m(json_string, parser)\u001B[0m\n\u001B[0;32m    146\u001B[0m         json_str \u001B[38;5;241m=\u001B[39m match\u001B[38;5;241m.\u001B[39mgroup(\u001B[38;5;241m2\u001B[39m)\n\u001B[1;32m--> 147\u001B[0m \u001B[38;5;28;01mreturn\u001B[39;00m _parse_json(json_str, parser\u001B[38;5;241m=\u001B[39mparser)\n",
      "File \u001B[1;32m~\\anaconda3\\envs\\AI\\Lib\\site-packages\\langchain_core\\utils\\json.py:163\u001B[0m, in \u001B[0;36m_parse_json\u001B[1;34m(json_str, parser)\u001B[0m\n\u001B[0;32m    162\u001B[0m \u001B[38;5;66;03m# Parse the JSON string into a Python dictionary\u001B[39;00m\n\u001B[1;32m--> 163\u001B[0m \u001B[38;5;28;01mreturn\u001B[39;00m parser(json_str)\n",
      "File \u001B[1;32m~\\anaconda3\\envs\\AI\\Lib\\site-packages\\langchain_core\\utils\\json.py:118\u001B[0m, in \u001B[0;36mparse_partial_json\u001B[1;34m(s, strict)\u001B[0m\n\u001B[0;32m    115\u001B[0m \u001B[38;5;66;03m# If we got here, we ran out of characters to remove\u001B[39;00m\n\u001B[0;32m    116\u001B[0m \u001B[38;5;66;03m# and still couldn't parse the string as JSON, so return the parse error\u001B[39;00m\n\u001B[0;32m    117\u001B[0m \u001B[38;5;66;03m# for the original string.\u001B[39;00m\n\u001B[1;32m--> 118\u001B[0m \u001B[38;5;28;01mreturn\u001B[39;00m json\u001B[38;5;241m.\u001B[39mloads(s, strict\u001B[38;5;241m=\u001B[39mstrict)\n",
      "File \u001B[1;32m~\\anaconda3\\envs\\AI\\Lib\\json\\__init__.py:359\u001B[0m, in \u001B[0;36mloads\u001B[1;34m(s, cls, object_hook, parse_float, parse_int, parse_constant, object_pairs_hook, **kw)\u001B[0m\n\u001B[0;32m    358\u001B[0m     kw[\u001B[38;5;124m'\u001B[39m\u001B[38;5;124mparse_constant\u001B[39m\u001B[38;5;124m'\u001B[39m] \u001B[38;5;241m=\u001B[39m parse_constant\n\u001B[1;32m--> 359\u001B[0m \u001B[38;5;28;01mreturn\u001B[39;00m \u001B[38;5;28mcls\u001B[39m(\u001B[38;5;241m*\u001B[39m\u001B[38;5;241m*\u001B[39mkw)\u001B[38;5;241m.\u001B[39mdecode(s)\n",
      "File \u001B[1;32m~\\anaconda3\\envs\\AI\\Lib\\json\\decoder.py:337\u001B[0m, in \u001B[0;36mJSONDecoder.decode\u001B[1;34m(self, s, _w)\u001B[0m\n\u001B[0;32m    333\u001B[0m \u001B[38;5;250m\u001B[39m\u001B[38;5;124;03m\"\"\"Return the Python representation of ``s`` (a ``str`` instance\u001B[39;00m\n\u001B[0;32m    334\u001B[0m \u001B[38;5;124;03mcontaining a JSON document).\u001B[39;00m\n\u001B[0;32m    335\u001B[0m \n\u001B[0;32m    336\u001B[0m \u001B[38;5;124;03m\"\"\"\u001B[39;00m\n\u001B[1;32m--> 337\u001B[0m obj, end \u001B[38;5;241m=\u001B[39m \u001B[38;5;28mself\u001B[39m\u001B[38;5;241m.\u001B[39mraw_decode(s, idx\u001B[38;5;241m=\u001B[39m_w(s, \u001B[38;5;241m0\u001B[39m)\u001B[38;5;241m.\u001B[39mend())\n\u001B[0;32m    338\u001B[0m end \u001B[38;5;241m=\u001B[39m _w(s, end)\u001B[38;5;241m.\u001B[39mend()\n",
      "File \u001B[1;32m~\\anaconda3\\envs\\AI\\Lib\\json\\decoder.py:353\u001B[0m, in \u001B[0;36mJSONDecoder.raw_decode\u001B[1;34m(self, s, idx)\u001B[0m\n\u001B[0;32m    352\u001B[0m \u001B[38;5;28;01mtry\u001B[39;00m:\n\u001B[1;32m--> 353\u001B[0m     obj, end \u001B[38;5;241m=\u001B[39m \u001B[38;5;28mself\u001B[39m\u001B[38;5;241m.\u001B[39mscan_once(s, idx)\n\u001B[0;32m    354\u001B[0m \u001B[38;5;28;01mexcept\u001B[39;00m \u001B[38;5;167;01mStopIteration\u001B[39;00m \u001B[38;5;28;01mas\u001B[39;00m err:\n",
      "\u001B[1;31mJSONDecodeError\u001B[0m: Expecting property name enclosed in double quotes: line 1 column 2 (char 1)",
      "\nThe above exception was the direct cause of the following exception:\n",
      "\u001B[1;31mOutputParserException\u001B[0m                     Traceback (most recent call last)",
      "Cell \u001B[1;32mIn[69], line 5\u001B[0m\n\u001B[0;32m      2\u001B[0m misformatted \u001B[38;5;241m=\u001B[39m \u001B[38;5;124m\"\u001B[39m\u001B[38;5;124m{\u001B[39m\u001B[38;5;124m'\u001B[39m\u001B[38;5;124mname\u001B[39m\u001B[38;5;124m'\u001B[39m\u001B[38;5;124m: \u001B[39m\u001B[38;5;124m'\u001B[39m\u001B[38;5;124mTom Hanks\u001B[39m\u001B[38;5;124m'\u001B[39m\u001B[38;5;124m, \u001B[39m\u001B[38;5;124m'\u001B[39m\u001B[38;5;124mfilm_names\u001B[39m\u001B[38;5;124m'\u001B[39m\u001B[38;5;124m: [\u001B[39m\u001B[38;5;124m'\u001B[39m\u001B[38;5;124mForrest Gump\u001B[39m\u001B[38;5;124m'\u001B[39m\u001B[38;5;124m]}\u001B[39m\u001B[38;5;124m\"\u001B[39m\n\u001B[0;32m      4\u001B[0m \u001B[38;5;66;03m# 잘못된 형식으로 입력된 데이터를 파싱하려고 시도\u001B[39;00m\n\u001B[1;32m----> 5\u001B[0m parser\u001B[38;5;241m.\u001B[39mparse(misformatted)\n",
      "File \u001B[1;32m~\\anaconda3\\envs\\AI\\Lib\\site-packages\\langchain_core\\output_parsers\\pydantic.py:84\u001B[0m, in \u001B[0;36mPydanticOutputParser.parse\u001B[1;34m(self, text)\u001B[0m\n\u001B[0;32m     75\u001B[0m \u001B[38;5;28;01mdef\u001B[39;00m \u001B[38;5;21mparse\u001B[39m(\u001B[38;5;28mself\u001B[39m, text: \u001B[38;5;28mstr\u001B[39m) \u001B[38;5;241m-\u001B[39m\u001B[38;5;241m>\u001B[39m TBaseModel:\n\u001B[0;32m     76\u001B[0m \u001B[38;5;250m    \u001B[39m\u001B[38;5;124;03m\"\"\"Parse the output of an LLM call to a pydantic object.\u001B[39;00m\n\u001B[0;32m     77\u001B[0m \n\u001B[0;32m     78\u001B[0m \u001B[38;5;124;03m    Args:\u001B[39;00m\n\u001B[1;32m   (...)\u001B[0m\n\u001B[0;32m     82\u001B[0m \u001B[38;5;124;03m        The parsed pydantic object.\u001B[39;00m\n\u001B[0;32m     83\u001B[0m \u001B[38;5;124;03m    \"\"\"\u001B[39;00m\n\u001B[1;32m---> 84\u001B[0m     \u001B[38;5;28;01mreturn\u001B[39;00m \u001B[38;5;28msuper\u001B[39m()\u001B[38;5;241m.\u001B[39mparse(text)\n",
      "File \u001B[1;32m~\\anaconda3\\envs\\AI\\Lib\\site-packages\\langchain_core\\output_parsers\\json.py:100\u001B[0m, in \u001B[0;36mJsonOutputParser.parse\u001B[1;34m(self, text)\u001B[0m\n\u001B[0;32m     91\u001B[0m \u001B[38;5;28;01mdef\u001B[39;00m \u001B[38;5;21mparse\u001B[39m(\u001B[38;5;28mself\u001B[39m, text: \u001B[38;5;28mstr\u001B[39m) \u001B[38;5;241m-\u001B[39m\u001B[38;5;241m>\u001B[39m Any:\n\u001B[0;32m     92\u001B[0m \u001B[38;5;250m    \u001B[39m\u001B[38;5;124;03m\"\"\"Parse the output of an LLM call to a JSON object.\u001B[39;00m\n\u001B[0;32m     93\u001B[0m \n\u001B[0;32m     94\u001B[0m \u001B[38;5;124;03m    Args:\u001B[39;00m\n\u001B[1;32m   (...)\u001B[0m\n\u001B[0;32m     98\u001B[0m \u001B[38;5;124;03m        The parsed JSON object.\u001B[39;00m\n\u001B[0;32m     99\u001B[0m \u001B[38;5;124;03m    \"\"\"\u001B[39;00m\n\u001B[1;32m--> 100\u001B[0m     \u001B[38;5;28;01mreturn\u001B[39;00m \u001B[38;5;28mself\u001B[39m\u001B[38;5;241m.\u001B[39mparse_result([Generation(text\u001B[38;5;241m=\u001B[39mtext)])\n",
      "File \u001B[1;32m~\\anaconda3\\envs\\AI\\Lib\\site-packages\\langchain_core\\output_parsers\\pydantic.py:73\u001B[0m, in \u001B[0;36mPydanticOutputParser.parse_result\u001B[1;34m(self, result, partial)\u001B[0m\n\u001B[0;32m     71\u001B[0m \u001B[38;5;28;01mif\u001B[39;00m partial:\n\u001B[0;32m     72\u001B[0m     \u001B[38;5;28;01mreturn\u001B[39;00m \u001B[38;5;28;01mNone\u001B[39;00m\n\u001B[1;32m---> 73\u001B[0m \u001B[38;5;28;01mraise\u001B[39;00m e\n",
      "File \u001B[1;32m~\\anaconda3\\envs\\AI\\Lib\\site-packages\\langchain_core\\output_parsers\\pydantic.py:68\u001B[0m, in \u001B[0;36mPydanticOutputParser.parse_result\u001B[1;34m(self, result, partial)\u001B[0m\n\u001B[0;32m     55\u001B[0m \u001B[38;5;250m\u001B[39m\u001B[38;5;124;03m\"\"\"Parse the result of an LLM call to a pydantic object.\u001B[39;00m\n\u001B[0;32m     56\u001B[0m \n\u001B[0;32m     57\u001B[0m \u001B[38;5;124;03mArgs:\u001B[39;00m\n\u001B[1;32m   (...)\u001B[0m\n\u001B[0;32m     65\u001B[0m \u001B[38;5;124;03m    The parsed pydantic object.\u001B[39;00m\n\u001B[0;32m     66\u001B[0m \u001B[38;5;124;03m\"\"\"\u001B[39;00m\n\u001B[0;32m     67\u001B[0m \u001B[38;5;28;01mtry\u001B[39;00m:\n\u001B[1;32m---> 68\u001B[0m     json_object \u001B[38;5;241m=\u001B[39m \u001B[38;5;28msuper\u001B[39m()\u001B[38;5;241m.\u001B[39mparse_result(result)\n\u001B[0;32m     69\u001B[0m     \u001B[38;5;28;01mreturn\u001B[39;00m \u001B[38;5;28mself\u001B[39m\u001B[38;5;241m.\u001B[39m_parse_obj(json_object)\n\u001B[0;32m     70\u001B[0m \u001B[38;5;28;01mexcept\u001B[39;00m OutputParserException \u001B[38;5;28;01mas\u001B[39;00m e:\n",
      "File \u001B[1;32m~\\anaconda3\\envs\\AI\\Lib\\site-packages\\langchain_core\\output_parsers\\json.py:89\u001B[0m, in \u001B[0;36mJsonOutputParser.parse_result\u001B[1;34m(self, result, partial)\u001B[0m\n\u001B[0;32m     87\u001B[0m \u001B[38;5;28;01mexcept\u001B[39;00m JSONDecodeError \u001B[38;5;28;01mas\u001B[39;00m e:\n\u001B[0;32m     88\u001B[0m     msg \u001B[38;5;241m=\u001B[39m \u001B[38;5;124mf\u001B[39m\u001B[38;5;124m\"\u001B[39m\u001B[38;5;124mInvalid json output: \u001B[39m\u001B[38;5;132;01m{\u001B[39;00mtext\u001B[38;5;132;01m}\u001B[39;00m\u001B[38;5;124m\"\u001B[39m\n\u001B[1;32m---> 89\u001B[0m     \u001B[38;5;28;01mraise\u001B[39;00m OutputParserException(msg, llm_output\u001B[38;5;241m=\u001B[39mtext) \u001B[38;5;28;01mfrom\u001B[39;00m \u001B[38;5;21;01me\u001B[39;00m\n",
      "\u001B[1;31mOutputParserException\u001B[0m: Invalid json output: {'name': 'Tom Hanks', 'film_names': ['Forrest Gump']}"
     ]
    }
   ],
   "execution_count": 69
  },
  {
   "metadata": {
    "ExecuteTime": {
     "end_time": "2024-09-21T05:42:29.242939Z",
     "start_time": "2024-09-21T05:42:27.494920Z"
    }
   },
   "cell_type": "code",
   "source": [
    "from langchain.output_parsers import OutputFixingParser\n",
    "\n",
    "new_parser = OutputFixingParser.from_llm(parser=parser, llm=ChatOpenAI())"
   ],
   "id": "f294ded64ce9b0ed",
   "outputs": [],
   "execution_count": 70
  },
  {
   "metadata": {
    "ExecuteTime": {
     "end_time": "2024-09-21T05:42:35.265288Z",
     "start_time": "2024-09-21T05:42:35.251766Z"
    }
   },
   "cell_type": "code",
   "source": [
    "# 잘못된 형식의 출력\n",
    "misformatted"
   ],
   "id": "cb982e4f08dd0de9",
   "outputs": [
    {
     "data": {
      "text/plain": [
       "\"{'name': 'Tom Hanks', 'film_names': ['Forrest Gump']}\""
      ]
     },
     "execution_count": 71,
     "metadata": {},
     "output_type": "execute_result"
    }
   ],
   "execution_count": 71
  },
  {
   "metadata": {
    "ExecuteTime": {
     "end_time": "2024-09-21T05:43:14.919676Z",
     "start_time": "2024-09-21T05:43:12.047681Z"
    }
   },
   "cell_type": "code",
   "source": "actor = new_parser.parse(misformatted)",
   "id": "5917dfe9f72b19dc",
   "outputs": [
    {
     "ename": "KeyError",
     "evalue": "\"Input to PromptTemplate is missing variables {'instructions'}.  Expected: ['completion', 'error', 'instructions'] Received: ['completion', 'error']\\nNote: if you intended {instructions} to be part of the string and not a variable, please escape it with double curly braces like: '{{instructions}}'.\"",
     "output_type": "error",
     "traceback": [
      "\u001B[1;31m---------------------------------------------------------------------------\u001B[0m",
      "\u001B[1;31mJSONDecodeError\u001B[0m                           Traceback (most recent call last)",
      "File \u001B[1;32m~\\anaconda3\\envs\\AI\\Lib\\site-packages\\langchain_core\\output_parsers\\json.py:86\u001B[0m, in \u001B[0;36mJsonOutputParser.parse_result\u001B[1;34m(self, result, partial)\u001B[0m\n\u001B[0;32m     85\u001B[0m \u001B[38;5;28;01mtry\u001B[39;00m:\n\u001B[1;32m---> 86\u001B[0m     \u001B[38;5;28;01mreturn\u001B[39;00m parse_json_markdown(text)\n\u001B[0;32m     87\u001B[0m \u001B[38;5;28;01mexcept\u001B[39;00m JSONDecodeError \u001B[38;5;28;01mas\u001B[39;00m e:\n",
      "File \u001B[1;32m~\\anaconda3\\envs\\AI\\Lib\\site-packages\\langchain_core\\utils\\json.py:147\u001B[0m, in \u001B[0;36mparse_json_markdown\u001B[1;34m(json_string, parser)\u001B[0m\n\u001B[0;32m    146\u001B[0m         json_str \u001B[38;5;241m=\u001B[39m match\u001B[38;5;241m.\u001B[39mgroup(\u001B[38;5;241m2\u001B[39m)\n\u001B[1;32m--> 147\u001B[0m \u001B[38;5;28;01mreturn\u001B[39;00m _parse_json(json_str, parser\u001B[38;5;241m=\u001B[39mparser)\n",
      "File \u001B[1;32m~\\anaconda3\\envs\\AI\\Lib\\site-packages\\langchain_core\\utils\\json.py:163\u001B[0m, in \u001B[0;36m_parse_json\u001B[1;34m(json_str, parser)\u001B[0m\n\u001B[0;32m    162\u001B[0m \u001B[38;5;66;03m# Parse the JSON string into a Python dictionary\u001B[39;00m\n\u001B[1;32m--> 163\u001B[0m \u001B[38;5;28;01mreturn\u001B[39;00m parser(json_str)\n",
      "File \u001B[1;32m~\\anaconda3\\envs\\AI\\Lib\\site-packages\\langchain_core\\utils\\json.py:118\u001B[0m, in \u001B[0;36mparse_partial_json\u001B[1;34m(s, strict)\u001B[0m\n\u001B[0;32m    115\u001B[0m \u001B[38;5;66;03m# If we got here, we ran out of characters to remove\u001B[39;00m\n\u001B[0;32m    116\u001B[0m \u001B[38;5;66;03m# and still couldn't parse the string as JSON, so return the parse error\u001B[39;00m\n\u001B[0;32m    117\u001B[0m \u001B[38;5;66;03m# for the original string.\u001B[39;00m\n\u001B[1;32m--> 118\u001B[0m \u001B[38;5;28;01mreturn\u001B[39;00m json\u001B[38;5;241m.\u001B[39mloads(s, strict\u001B[38;5;241m=\u001B[39mstrict)\n",
      "File \u001B[1;32m~\\anaconda3\\envs\\AI\\Lib\\json\\__init__.py:359\u001B[0m, in \u001B[0;36mloads\u001B[1;34m(s, cls, object_hook, parse_float, parse_int, parse_constant, object_pairs_hook, **kw)\u001B[0m\n\u001B[0;32m    358\u001B[0m     kw[\u001B[38;5;124m'\u001B[39m\u001B[38;5;124mparse_constant\u001B[39m\u001B[38;5;124m'\u001B[39m] \u001B[38;5;241m=\u001B[39m parse_constant\n\u001B[1;32m--> 359\u001B[0m \u001B[38;5;28;01mreturn\u001B[39;00m \u001B[38;5;28mcls\u001B[39m(\u001B[38;5;241m*\u001B[39m\u001B[38;5;241m*\u001B[39mkw)\u001B[38;5;241m.\u001B[39mdecode(s)\n",
      "File \u001B[1;32m~\\anaconda3\\envs\\AI\\Lib\\json\\decoder.py:337\u001B[0m, in \u001B[0;36mJSONDecoder.decode\u001B[1;34m(self, s, _w)\u001B[0m\n\u001B[0;32m    333\u001B[0m \u001B[38;5;250m\u001B[39m\u001B[38;5;124;03m\"\"\"Return the Python representation of ``s`` (a ``str`` instance\u001B[39;00m\n\u001B[0;32m    334\u001B[0m \u001B[38;5;124;03mcontaining a JSON document).\u001B[39;00m\n\u001B[0;32m    335\u001B[0m \n\u001B[0;32m    336\u001B[0m \u001B[38;5;124;03m\"\"\"\u001B[39;00m\n\u001B[1;32m--> 337\u001B[0m obj, end \u001B[38;5;241m=\u001B[39m \u001B[38;5;28mself\u001B[39m\u001B[38;5;241m.\u001B[39mraw_decode(s, idx\u001B[38;5;241m=\u001B[39m_w(s, \u001B[38;5;241m0\u001B[39m)\u001B[38;5;241m.\u001B[39mend())\n\u001B[0;32m    338\u001B[0m end \u001B[38;5;241m=\u001B[39m _w(s, end)\u001B[38;5;241m.\u001B[39mend()\n",
      "File \u001B[1;32m~\\anaconda3\\envs\\AI\\Lib\\json\\decoder.py:353\u001B[0m, in \u001B[0;36mJSONDecoder.raw_decode\u001B[1;34m(self, s, idx)\u001B[0m\n\u001B[0;32m    352\u001B[0m \u001B[38;5;28;01mtry\u001B[39;00m:\n\u001B[1;32m--> 353\u001B[0m     obj, end \u001B[38;5;241m=\u001B[39m \u001B[38;5;28mself\u001B[39m\u001B[38;5;241m.\u001B[39mscan_once(s, idx)\n\u001B[0;32m    354\u001B[0m \u001B[38;5;28;01mexcept\u001B[39;00m \u001B[38;5;167;01mStopIteration\u001B[39;00m \u001B[38;5;28;01mas\u001B[39;00m err:\n",
      "\u001B[1;31mJSONDecodeError\u001B[0m: Expecting property name enclosed in double quotes: line 1 column 2 (char 1)",
      "\nThe above exception was the direct cause of the following exception:\n",
      "\u001B[1;31mOutputParserException\u001B[0m                     Traceback (most recent call last)",
      "File \u001B[1;32m~\\anaconda3\\envs\\AI\\Lib\\site-packages\\langchain\\output_parsers\\fix.py:69\u001B[0m, in \u001B[0;36mOutputFixingParser.parse\u001B[1;34m(self, completion)\u001B[0m\n\u001B[0;32m     68\u001B[0m \u001B[38;5;28;01mtry\u001B[39;00m:\n\u001B[1;32m---> 69\u001B[0m     \u001B[38;5;28;01mreturn\u001B[39;00m \u001B[38;5;28mself\u001B[39m\u001B[38;5;241m.\u001B[39mparser\u001B[38;5;241m.\u001B[39mparse(completion)\n\u001B[0;32m     70\u001B[0m \u001B[38;5;28;01mexcept\u001B[39;00m OutputParserException \u001B[38;5;28;01mas\u001B[39;00m e:\n",
      "File \u001B[1;32m~\\anaconda3\\envs\\AI\\Lib\\site-packages\\langchain_core\\output_parsers\\pydantic.py:84\u001B[0m, in \u001B[0;36mPydanticOutputParser.parse\u001B[1;34m(self, text)\u001B[0m\n\u001B[0;32m     76\u001B[0m \u001B[38;5;250m\u001B[39m\u001B[38;5;124;03m\"\"\"Parse the output of an LLM call to a pydantic object.\u001B[39;00m\n\u001B[0;32m     77\u001B[0m \n\u001B[0;32m     78\u001B[0m \u001B[38;5;124;03mArgs:\u001B[39;00m\n\u001B[1;32m   (...)\u001B[0m\n\u001B[0;32m     82\u001B[0m \u001B[38;5;124;03m    The parsed pydantic object.\u001B[39;00m\n\u001B[0;32m     83\u001B[0m \u001B[38;5;124;03m\"\"\"\u001B[39;00m\n\u001B[1;32m---> 84\u001B[0m \u001B[38;5;28;01mreturn\u001B[39;00m \u001B[38;5;28msuper\u001B[39m()\u001B[38;5;241m.\u001B[39mparse(text)\n",
      "File \u001B[1;32m~\\anaconda3\\envs\\AI\\Lib\\site-packages\\langchain_core\\output_parsers\\json.py:100\u001B[0m, in \u001B[0;36mJsonOutputParser.parse\u001B[1;34m(self, text)\u001B[0m\n\u001B[0;32m     92\u001B[0m \u001B[38;5;250m\u001B[39m\u001B[38;5;124;03m\"\"\"Parse the output of an LLM call to a JSON object.\u001B[39;00m\n\u001B[0;32m     93\u001B[0m \n\u001B[0;32m     94\u001B[0m \u001B[38;5;124;03mArgs:\u001B[39;00m\n\u001B[1;32m   (...)\u001B[0m\n\u001B[0;32m     98\u001B[0m \u001B[38;5;124;03m    The parsed JSON object.\u001B[39;00m\n\u001B[0;32m     99\u001B[0m \u001B[38;5;124;03m\"\"\"\u001B[39;00m\n\u001B[1;32m--> 100\u001B[0m \u001B[38;5;28;01mreturn\u001B[39;00m \u001B[38;5;28mself\u001B[39m\u001B[38;5;241m.\u001B[39mparse_result([Generation(text\u001B[38;5;241m=\u001B[39mtext)])\n",
      "File \u001B[1;32m~\\anaconda3\\envs\\AI\\Lib\\site-packages\\langchain_core\\output_parsers\\pydantic.py:73\u001B[0m, in \u001B[0;36mPydanticOutputParser.parse_result\u001B[1;34m(self, result, partial)\u001B[0m\n\u001B[0;32m     72\u001B[0m     \u001B[38;5;28;01mreturn\u001B[39;00m \u001B[38;5;28;01mNone\u001B[39;00m\n\u001B[1;32m---> 73\u001B[0m \u001B[38;5;28;01mraise\u001B[39;00m e\n",
      "File \u001B[1;32m~\\anaconda3\\envs\\AI\\Lib\\site-packages\\langchain_core\\output_parsers\\pydantic.py:68\u001B[0m, in \u001B[0;36mPydanticOutputParser.parse_result\u001B[1;34m(self, result, partial)\u001B[0m\n\u001B[0;32m     67\u001B[0m \u001B[38;5;28;01mtry\u001B[39;00m:\n\u001B[1;32m---> 68\u001B[0m     json_object \u001B[38;5;241m=\u001B[39m \u001B[38;5;28msuper\u001B[39m()\u001B[38;5;241m.\u001B[39mparse_result(result)\n\u001B[0;32m     69\u001B[0m     \u001B[38;5;28;01mreturn\u001B[39;00m \u001B[38;5;28mself\u001B[39m\u001B[38;5;241m.\u001B[39m_parse_obj(json_object)\n",
      "File \u001B[1;32m~\\anaconda3\\envs\\AI\\Lib\\site-packages\\langchain_core\\output_parsers\\json.py:89\u001B[0m, in \u001B[0;36mJsonOutputParser.parse_result\u001B[1;34m(self, result, partial)\u001B[0m\n\u001B[0;32m     88\u001B[0m msg \u001B[38;5;241m=\u001B[39m \u001B[38;5;124mf\u001B[39m\u001B[38;5;124m\"\u001B[39m\u001B[38;5;124mInvalid json output: \u001B[39m\u001B[38;5;132;01m{\u001B[39;00mtext\u001B[38;5;132;01m}\u001B[39;00m\u001B[38;5;124m\"\u001B[39m\n\u001B[1;32m---> 89\u001B[0m \u001B[38;5;28;01mraise\u001B[39;00m OutputParserException(msg, llm_output\u001B[38;5;241m=\u001B[39mtext) \u001B[38;5;28;01mfrom\u001B[39;00m \u001B[38;5;21;01me\u001B[39;00m\n",
      "\u001B[1;31mOutputParserException\u001B[0m: Invalid json output: {'name': 'Tom Hanks', 'film_names': ['Forrest Gump']}",
      "\nDuring handling of the above exception, another exception occurred:\n",
      "\u001B[1;31mAttributeError\u001B[0m                            Traceback (most recent call last)",
      "File \u001B[1;32m~\\anaconda3\\envs\\AI\\Lib\\site-packages\\langchain\\output_parsers\\fix.py:85\u001B[0m, in \u001B[0;36mOutputFixingParser.parse\u001B[1;34m(self, completion)\u001B[0m\n\u001B[0;32m     82\u001B[0m \u001B[38;5;28;01mtry\u001B[39;00m:\n\u001B[0;32m     83\u001B[0m     completion \u001B[38;5;241m=\u001B[39m \u001B[38;5;28mself\u001B[39m\u001B[38;5;241m.\u001B[39mretry_chain\u001B[38;5;241m.\u001B[39minvoke(\n\u001B[0;32m     84\u001B[0m         \u001B[38;5;28mdict\u001B[39m(\n\u001B[1;32m---> 85\u001B[0m             instructions\u001B[38;5;241m=\u001B[39m\u001B[38;5;28mself\u001B[39m\u001B[38;5;241m.\u001B[39mparser\u001B[38;5;241m.\u001B[39mget_format_instructions(),\n\u001B[0;32m     86\u001B[0m             completion\u001B[38;5;241m=\u001B[39mcompletion,\n\u001B[0;32m     87\u001B[0m             error\u001B[38;5;241m=\u001B[39m\u001B[38;5;28mrepr\u001B[39m(e),\n\u001B[0;32m     88\u001B[0m         )\n\u001B[0;32m     89\u001B[0m     )\n\u001B[0;32m     90\u001B[0m \u001B[38;5;28;01mexcept\u001B[39;00m (\u001B[38;5;167;01mNotImplementedError\u001B[39;00m, \u001B[38;5;167;01mAttributeError\u001B[39;00m):\n\u001B[0;32m     91\u001B[0m     \u001B[38;5;66;03m# Case: self.parser does not have get_format_instructions\u001B[39;00m\n",
      "File \u001B[1;32m~\\anaconda3\\envs\\AI\\Lib\\site-packages\\langchain_core\\output_parsers\\pydantic.py:93\u001B[0m, in \u001B[0;36mPydanticOutputParser.get_format_instructions\u001B[1;34m(self)\u001B[0m\n\u001B[0;32m     92\u001B[0m \u001B[38;5;66;03m# Copy schema to avoid altering original Pydantic schema.\u001B[39;00m\n\u001B[1;32m---> 93\u001B[0m schema \u001B[38;5;241m=\u001B[39m {k: v \u001B[38;5;28;01mfor\u001B[39;00m k, v \u001B[38;5;129;01min\u001B[39;00m \u001B[38;5;28mself\u001B[39m\u001B[38;5;241m.\u001B[39mpydantic_object\u001B[38;5;241m.\u001B[39mmodel_json_schema()\u001B[38;5;241m.\u001B[39mitems()}\n\u001B[0;32m     95\u001B[0m \u001B[38;5;66;03m# Remove extraneous fields.\u001B[39;00m\n",
      "\u001B[1;31mAttributeError\u001B[0m: type object 'Actor' has no attribute 'model_json_schema'",
      "\nDuring handling of the above exception, another exception occurred:\n",
      "\u001B[1;31mKeyError\u001B[0m                                  Traceback (most recent call last)",
      "Cell \u001B[1;32mIn[72], line 1\u001B[0m\n\u001B[1;32m----> 1\u001B[0m actor \u001B[38;5;241m=\u001B[39m new_parser\u001B[38;5;241m.\u001B[39mparse(misformatted)\n",
      "File \u001B[1;32m~\\anaconda3\\envs\\AI\\Lib\\site-packages\\langchain\\output_parsers\\fix.py:92\u001B[0m, in \u001B[0;36mOutputFixingParser.parse\u001B[1;34m(self, completion)\u001B[0m\n\u001B[0;32m     83\u001B[0m                     completion \u001B[38;5;241m=\u001B[39m \u001B[38;5;28mself\u001B[39m\u001B[38;5;241m.\u001B[39mretry_chain\u001B[38;5;241m.\u001B[39minvoke(\n\u001B[0;32m     84\u001B[0m                         \u001B[38;5;28mdict\u001B[39m(\n\u001B[0;32m     85\u001B[0m                             instructions\u001B[38;5;241m=\u001B[39m\u001B[38;5;28mself\u001B[39m\u001B[38;5;241m.\u001B[39mparser\u001B[38;5;241m.\u001B[39mget_format_instructions(),\n\u001B[1;32m   (...)\u001B[0m\n\u001B[0;32m     88\u001B[0m                         )\n\u001B[0;32m     89\u001B[0m                     )\n\u001B[0;32m     90\u001B[0m                 \u001B[38;5;28;01mexcept\u001B[39;00m (\u001B[38;5;167;01mNotImplementedError\u001B[39;00m, \u001B[38;5;167;01mAttributeError\u001B[39;00m):\n\u001B[0;32m     91\u001B[0m                     \u001B[38;5;66;03m# Case: self.parser does not have get_format_instructions\u001B[39;00m\n\u001B[1;32m---> 92\u001B[0m                     completion \u001B[38;5;241m=\u001B[39m \u001B[38;5;28mself\u001B[39m\u001B[38;5;241m.\u001B[39mretry_chain\u001B[38;5;241m.\u001B[39minvoke(\n\u001B[0;32m     93\u001B[0m                         \u001B[38;5;28mdict\u001B[39m(\n\u001B[0;32m     94\u001B[0m                             completion\u001B[38;5;241m=\u001B[39mcompletion,\n\u001B[0;32m     95\u001B[0m                             error\u001B[38;5;241m=\u001B[39m\u001B[38;5;28mrepr\u001B[39m(e),\n\u001B[0;32m     96\u001B[0m                         )\n\u001B[0;32m     97\u001B[0m                     )\n\u001B[0;32m     99\u001B[0m \u001B[38;5;28;01mraise\u001B[39;00m OutputParserException(\u001B[38;5;124m\"\u001B[39m\u001B[38;5;124mFailed to parse\u001B[39m\u001B[38;5;124m\"\u001B[39m)\n",
      "File \u001B[1;32m~\\anaconda3\\envs\\AI\\Lib\\site-packages\\langchain_core\\runnables\\base.py:3011\u001B[0m, in \u001B[0;36mRunnableSequence.invoke\u001B[1;34m(self, input, config, **kwargs)\u001B[0m\n\u001B[0;32m   3009\u001B[0m context\u001B[38;5;241m.\u001B[39mrun(_set_config_context, config)\n\u001B[0;32m   3010\u001B[0m \u001B[38;5;28;01mif\u001B[39;00m i \u001B[38;5;241m==\u001B[39m \u001B[38;5;241m0\u001B[39m:\n\u001B[1;32m-> 3011\u001B[0m     \u001B[38;5;28minput\u001B[39m \u001B[38;5;241m=\u001B[39m context\u001B[38;5;241m.\u001B[39mrun(step\u001B[38;5;241m.\u001B[39minvoke, \u001B[38;5;28minput\u001B[39m, config, \u001B[38;5;241m*\u001B[39m\u001B[38;5;241m*\u001B[39mkwargs)\n\u001B[0;32m   3012\u001B[0m \u001B[38;5;28;01melse\u001B[39;00m:\n\u001B[0;32m   3013\u001B[0m     \u001B[38;5;28minput\u001B[39m \u001B[38;5;241m=\u001B[39m context\u001B[38;5;241m.\u001B[39mrun(step\u001B[38;5;241m.\u001B[39minvoke, \u001B[38;5;28minput\u001B[39m, config)\n",
      "File \u001B[1;32m~\\anaconda3\\envs\\AI\\Lib\\site-packages\\langchain_core\\prompts\\base.py:193\u001B[0m, in \u001B[0;36mBasePromptTemplate.invoke\u001B[1;34m(self, input, config)\u001B[0m\n\u001B[0;32m    191\u001B[0m \u001B[38;5;28;01mif\u001B[39;00m \u001B[38;5;28mself\u001B[39m\u001B[38;5;241m.\u001B[39mtags:\n\u001B[0;32m    192\u001B[0m     config[\u001B[38;5;124m\"\u001B[39m\u001B[38;5;124mtags\u001B[39m\u001B[38;5;124m\"\u001B[39m] \u001B[38;5;241m=\u001B[39m config[\u001B[38;5;124m\"\u001B[39m\u001B[38;5;124mtags\u001B[39m\u001B[38;5;124m\"\u001B[39m] \u001B[38;5;241m+\u001B[39m \u001B[38;5;28mself\u001B[39m\u001B[38;5;241m.\u001B[39mtags\n\u001B[1;32m--> 193\u001B[0m \u001B[38;5;28;01mreturn\u001B[39;00m \u001B[38;5;28mself\u001B[39m\u001B[38;5;241m.\u001B[39m_call_with_config(\n\u001B[0;32m    194\u001B[0m     \u001B[38;5;28mself\u001B[39m\u001B[38;5;241m.\u001B[39m_format_prompt_with_error_handling,\n\u001B[0;32m    195\u001B[0m     \u001B[38;5;28minput\u001B[39m,\n\u001B[0;32m    196\u001B[0m     config,\n\u001B[0;32m    197\u001B[0m     run_type\u001B[38;5;241m=\u001B[39m\u001B[38;5;124m\"\u001B[39m\u001B[38;5;124mprompt\u001B[39m\u001B[38;5;124m\"\u001B[39m,\n\u001B[0;32m    198\u001B[0m     serialized\u001B[38;5;241m=\u001B[39m\u001B[38;5;28mself\u001B[39m\u001B[38;5;241m.\u001B[39m_serialized,\n\u001B[0;32m    199\u001B[0m )\n",
      "File \u001B[1;32m~\\anaconda3\\envs\\AI\\Lib\\site-packages\\langchain_core\\runnables\\base.py:1916\u001B[0m, in \u001B[0;36mRunnable._call_with_config\u001B[1;34m(self, func, input, config, run_type, serialized, **kwargs)\u001B[0m\n\u001B[0;32m   1912\u001B[0m     context \u001B[38;5;241m=\u001B[39m copy_context()\n\u001B[0;32m   1913\u001B[0m     context\u001B[38;5;241m.\u001B[39mrun(_set_config_context, child_config)\n\u001B[0;32m   1914\u001B[0m     output \u001B[38;5;241m=\u001B[39m cast(\n\u001B[0;32m   1915\u001B[0m         Output,\n\u001B[1;32m-> 1916\u001B[0m         context\u001B[38;5;241m.\u001B[39mrun(\n\u001B[0;32m   1917\u001B[0m             call_func_with_variable_args,  \u001B[38;5;66;03m# type: ignore[arg-type]\u001B[39;00m\n\u001B[0;32m   1918\u001B[0m             func,  \u001B[38;5;66;03m# type: ignore[arg-type]\u001B[39;00m\n\u001B[0;32m   1919\u001B[0m             \u001B[38;5;28minput\u001B[39m,  \u001B[38;5;66;03m# type: ignore[arg-type]\u001B[39;00m\n\u001B[0;32m   1920\u001B[0m             config,\n\u001B[0;32m   1921\u001B[0m             run_manager,\n\u001B[0;32m   1922\u001B[0m             \u001B[38;5;241m*\u001B[39m\u001B[38;5;241m*\u001B[39mkwargs,\n\u001B[0;32m   1923\u001B[0m         ),\n\u001B[0;32m   1924\u001B[0m     )\n\u001B[0;32m   1925\u001B[0m \u001B[38;5;28;01mexcept\u001B[39;00m \u001B[38;5;167;01mBaseException\u001B[39;00m \u001B[38;5;28;01mas\u001B[39;00m e:\n\u001B[0;32m   1926\u001B[0m     run_manager\u001B[38;5;241m.\u001B[39mon_chain_error(e)\n",
      "File \u001B[1;32m~\\anaconda3\\envs\\AI\\Lib\\site-packages\\langchain_core\\runnables\\config.py:398\u001B[0m, in \u001B[0;36mcall_func_with_variable_args\u001B[1;34m(func, input, config, run_manager, **kwargs)\u001B[0m\n\u001B[0;32m    396\u001B[0m \u001B[38;5;28;01mif\u001B[39;00m run_manager \u001B[38;5;129;01mis\u001B[39;00m \u001B[38;5;129;01mnot\u001B[39;00m \u001B[38;5;28;01mNone\u001B[39;00m \u001B[38;5;129;01mand\u001B[39;00m accepts_run_manager(func):\n\u001B[0;32m    397\u001B[0m     kwargs[\u001B[38;5;124m\"\u001B[39m\u001B[38;5;124mrun_manager\u001B[39m\u001B[38;5;124m\"\u001B[39m] \u001B[38;5;241m=\u001B[39m run_manager\n\u001B[1;32m--> 398\u001B[0m \u001B[38;5;28;01mreturn\u001B[39;00m func(\u001B[38;5;28minput\u001B[39m, \u001B[38;5;241m*\u001B[39m\u001B[38;5;241m*\u001B[39mkwargs)\n",
      "File \u001B[1;32m~\\anaconda3\\envs\\AI\\Lib\\site-packages\\langchain_core\\prompts\\base.py:167\u001B[0m, in \u001B[0;36mBasePromptTemplate._format_prompt_with_error_handling\u001B[1;34m(self, inner_input)\u001B[0m\n\u001B[0;32m    166\u001B[0m \u001B[38;5;28;01mdef\u001B[39;00m \u001B[38;5;21m_format_prompt_with_error_handling\u001B[39m(\u001B[38;5;28mself\u001B[39m, inner_input: Dict) \u001B[38;5;241m-\u001B[39m\u001B[38;5;241m>\u001B[39m PromptValue:\n\u001B[1;32m--> 167\u001B[0m     _inner_input \u001B[38;5;241m=\u001B[39m \u001B[38;5;28mself\u001B[39m\u001B[38;5;241m.\u001B[39m_validate_input(inner_input)\n\u001B[0;32m    168\u001B[0m     \u001B[38;5;28;01mreturn\u001B[39;00m \u001B[38;5;28mself\u001B[39m\u001B[38;5;241m.\u001B[39mformat_prompt(\u001B[38;5;241m*\u001B[39m\u001B[38;5;241m*\u001B[39m_inner_input)\n",
      "File \u001B[1;32m~\\anaconda3\\envs\\AI\\Lib\\site-packages\\langchain_core\\prompts\\base.py:163\u001B[0m, in \u001B[0;36mBasePromptTemplate._validate_input\u001B[1;34m(self, inner_input)\u001B[0m\n\u001B[0;32m    157\u001B[0m     example_key \u001B[38;5;241m=\u001B[39m missing\u001B[38;5;241m.\u001B[39mpop()\n\u001B[0;32m    158\u001B[0m     msg \u001B[38;5;241m+\u001B[39m\u001B[38;5;241m=\u001B[39m (\n\u001B[0;32m    159\u001B[0m         \u001B[38;5;124mf\u001B[39m\u001B[38;5;124m\"\u001B[39m\u001B[38;5;130;01m\\n\u001B[39;00m\u001B[38;5;124mNote: if you intended \u001B[39m\u001B[38;5;130;01m{{\u001B[39;00m\u001B[38;5;132;01m{\u001B[39;00mexample_key\u001B[38;5;132;01m}\u001B[39;00m\u001B[38;5;130;01m}}\u001B[39;00m\u001B[38;5;124m to be part of the string\u001B[39m\u001B[38;5;124m\"\u001B[39m\n\u001B[0;32m    160\u001B[0m         \u001B[38;5;124m\"\u001B[39m\u001B[38;5;124m and not a variable, please escape it with double curly braces like: \u001B[39m\u001B[38;5;124m\"\u001B[39m\n\u001B[0;32m    161\u001B[0m         \u001B[38;5;124mf\u001B[39m\u001B[38;5;124m\"\u001B[39m\u001B[38;5;124m'\u001B[39m\u001B[38;5;130;01m{{\u001B[39;00m\u001B[38;5;130;01m{{\u001B[39;00m\u001B[38;5;132;01m{\u001B[39;00mexample_key\u001B[38;5;132;01m}\u001B[39;00m\u001B[38;5;130;01m}}\u001B[39;00m\u001B[38;5;130;01m}}\u001B[39;00m\u001B[38;5;124m'\u001B[39m\u001B[38;5;124m.\u001B[39m\u001B[38;5;124m\"\u001B[39m\n\u001B[0;32m    162\u001B[0m     )\n\u001B[1;32m--> 163\u001B[0m     \u001B[38;5;28;01mraise\u001B[39;00m \u001B[38;5;167;01mKeyError\u001B[39;00m(msg)\n\u001B[0;32m    164\u001B[0m \u001B[38;5;28;01mreturn\u001B[39;00m inner_input\n",
      "\u001B[1;31mKeyError\u001B[0m: \"Input to PromptTemplate is missing variables {'instructions'}.  Expected: ['completion', 'error', 'instructions'] Received: ['completion', 'error']\\nNote: if you intended {instructions} to be part of the string and not a variable, please escape it with double curly braces like: '{{instructions}}'.\""
     ]
    }
   ],
   "execution_count": 72
  },
  {
   "metadata": {},
   "cell_type": "code",
   "outputs": [],
   "execution_count": null,
   "source": "actor",
   "id": "61996378759d8e99"
  }
 ],
 "metadata": {
  "kernelspec": {
   "display_name": "Python 3",
   "language": "python",
   "name": "python3"
  },
  "language_info": {
   "codemirror_mode": {
    "name": "ipython",
    "version": 2
   },
   "file_extension": ".py",
   "mimetype": "text/x-python",
   "name": "python",
   "nbconvert_exporter": "python",
   "pygments_lexer": "ipython2",
   "version": "2.7.6"
  }
 },
 "nbformat": 4,
 "nbformat_minor": 5
}
